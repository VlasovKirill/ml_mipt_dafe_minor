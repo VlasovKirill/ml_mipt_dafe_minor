{
 "cells": [
  {
   "cell_type": "markdown",
   "metadata": {},
   "source": [
    "# Домашнее задание 2 - метрики качества, валидация,  kNN #\n",
    "\n",
    "Ваши ответы нужно внести в [форму](https://docs.google.com/forms/d/e/1FAIpQLSfosLNLnO5bqGqkvSs147LJanr73Zu4YbKDsoQMkZIygfzE7Q/viewform)\n",
    "\n",
    "## Задание 1 ##   \n",
    "Вам понадобится:\n",
    "- Лист бумаги в клетку\n",
    "- Ручка\n",
    "- Немного внимательности \n",
    "\n",
    "Посчитайте AUC ROC для следующих значений целевой переменной и вероятностей отнесения к классу 1:\n",
    "\n",
    "| Target | Prediction   |\n",
    "|--------------------|-----------------------------------------|\n",
    "| 1                  | 0.8                                     |\n",
    "| 0                  | 0.4                                     |\n",
    "| 1                  | 0.7                                     |\n",
    "| 0                  | 0.2                                     |\n",
    "| 0                  | 0.8                                     |\n",
    "| 0                  | 0.2                                     |\n",
    "| 1                  | 0.3                                     |\n",
    "| 1                  | 0.9                                     |\n",
    "| 0                  | 0.3                                     |\n",
    "| 1                  | 0.95                                    |\n",
    "\n",
    "Чтобы разобраться окончательно как это делается, прошу ознакомиться со следующими Материалами:\n",
    "- [Хорошее разъяснение AUC ROC](https://dyakonov.org/2017/07/28/auc-roc-площадь-под-кривой-ошибок/)\n",
    "- [Примеры и решение задачек](https://dyakonov.org/2015/10/09/задачки-про-auc-roc/)\n",
    "\n",
    "\n",
    "\n",
    "## Задание 2 ##   \n"
   ]
  },
  {
   "cell_type": "code",
   "execution_count": 2,
   "metadata": {},
   "outputs": [],
   "source": [
    "import pandas as pd\n",
    "import numpy as np\n",
    "%matplotlib inline\n",
    "import seaborn as sns\n",
    "import matplotlib.pyplot as plt\n",
    "sns.set(palette='deep', style='darkgrid', rc={\"figure.figsize\": (15, 4)})\n",
    "import scipy.stats as st\n",
    "\n",
    "import warnings\n",
    "warnings.simplefilter('ignore')"
   ]
  },
  {
   "cell_type": "markdown",
   "metadata": {},
   "source": [
    "Источник данных: [Соревнование в рамках курса  ODS](https://www.kaggle.com/c/flight-delays-2017)"
   ]
  },
  {
   "cell_type": "code",
   "execution_count": 139,
   "metadata": {},
   "outputs": [],
   "source": [
    "from sklearn.model_selection import train_test_split, cross_val_score, GridSearchCV\n",
    "from sklearn.neighbors import KNeighborsClassifier\n",
    "from sklearn.metrics import accuracy_score, f1_score, roc_auc_score, classification_report, confusion_matrix"
   ]
  },
  {
   "cell_type": "code",
   "execution_count": 37,
   "metadata": {},
   "outputs": [
    {
     "data": {
      "text/plain": [
       "(100000, 9)"
      ]
     },
     "execution_count": 37,
     "metadata": {},
     "output_type": "execute_result"
    }
   ],
   "source": [
    "# Загрузим данные и проведем все предобработки как на семинаре: \n",
    "data = pd.read_csv('../data/flight_delays_train.csv')\n",
    "data['dep_delayed_15min'] = data['dep_delayed_15min'].apply(lambda x: 1 if x == 'Y' else 0)\n",
    "data['Month'] = data['Month'].str.replace('c-', '').astype('int16')\n",
    "data['DayofMonth'] = data['DayofMonth'].str.replace('c-', '').astype('int16')\n",
    "data['DayOfWeek'] = data['DayOfWeek'].str.replace('c-', '').astype('int16')\n",
    "data['UniqueCarrier'] = pd.factorize(data['UniqueCarrier'])[0]\n",
    "data['Origin'] = pd.factorize(data['Origin'])[0]\n",
    "data['Dest'] = pd.factorize(data['Dest'])[0]\n",
    "\n",
    "x = data.drop('dep_delayed_15min', axis=1)\n",
    "y = data['dep_delayed_15min'].values\n",
    "\n",
    "data.shape"
   ]
  },
  {
   "cell_type": "code",
   "execution_count": 105,
   "metadata": {},
   "outputs": [],
   "source": [
    "#Разделим выборку на обущающую и тестовую\n",
    "x_train, x_test, y_train, y_test = train_test_split(x, y, train_size=0.8, test_size=0.2, \\\n",
    "                                                    shuffle=True, random_state=18)"
   ]
  },
  {
   "cell_type": "markdown",
   "metadata": {},
   "source": [
    "Зачастую, не достаточно проверить один параметр, а нужно посмотреть как ведет себя метрика при различных сочетания значений нескольких параметров. Давайте попробуем провести кросс валидацию при разных сочетаниях параметров. "
   ]
  },
  {
   "cell_type": "code",
   "execution_count": 127,
   "metadata": {},
   "outputs": [],
   "source": [
    "# Классификатор: \n",
    "knn = KNeighborsClassifier()\n",
    "\n",
    "# Параметры для проверки:\n",
    "params = {'n_neighbors': [3,5,7,9,15],\n",
    "          'weights': ('uniform', 'distance'),\n",
    "          'metric': ('euclidean', 'minkowski', 'manhattan', 'chebyshev' )\n",
    "        }"
   ]
  },
  {
   "cell_type": "markdown",
   "metadata": {},
   "source": [
    "__Не спешите__ строить безумные циклы, а воспользуйтесь функцией GridSearchCV из модуля model_selection\n",
    "\n",
    "Проверять будем на 3 фолдах метрику F1. Чтобы следить за выводом результата можете использовать параметр verbose"
   ]
  },
  {
   "cell_type": "code",
   "execution_count": 1,
   "metadata": {},
   "outputs": [],
   "source": [
    "# Ваш код здесь"
   ]
  },
  {
   "cell_type": "markdown",
   "metadata": {},
   "source": [
    "## Задание 3\n",
    "Построите прогноз для тестовый выборки, применив лучшие параметры. Чему равняется F1 на тестовой выборке? "
   ]
  },
  {
   "cell_type": "code",
   "execution_count": 2,
   "metadata": {},
   "outputs": [],
   "source": [
    "# Ваш код Здесь\n"
   ]
  },
  {
   "cell_type": "markdown",
   "metadata": {},
   "source": [
    "## Задание 4\n",
    "\n",
    "Постройте прогноз значений вероятности на обученном ранее алгоритме с помощью .predict_proba(). Чему равняется roc_auc_score на тестовой выборке? "
   ]
  },
  {
   "cell_type": "code",
   "execution_count": 3,
   "metadata": {},
   "outputs": [],
   "source": [
    "# Ваш код Здесь\n"
   ]
  }
 ],
 "metadata": {
  "kernelspec": {
   "display_name": "Python 3",
   "language": "python",
   "name": "python3"
  },
  "language_info": {
   "codemirror_mode": {
    "name": "ipython",
    "version": 3
   },
   "file_extension": ".py",
   "mimetype": "text/x-python",
   "name": "python",
   "nbconvert_exporter": "python",
   "pygments_lexer": "ipython3",
   "version": "3.5.2"
  }
 },
 "nbformat": 4,
 "nbformat_minor": 2
}
