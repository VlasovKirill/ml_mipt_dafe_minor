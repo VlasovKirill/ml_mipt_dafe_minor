{
 "cells": [
  {
   "cell_type": "code",
   "execution_count": null,
   "metadata": {
    "collapsed": true
   },
   "outputs": [],
   "source": [
    "import numpy as np\n",
    "import pandas as pd\n",
    "from matplotlib import pyplot as plt\n",
    "import seaborn as sns\n",
    "%matplotlib inline\n",
    "\n",
    "from sklearn import datasets\n",
    "from sklearn.model_selection import train_test_split\n",
    "from sklearn.metrics import accuracy_score, confusion_matrix"
   ]
  },
  {
   "cell_type": "markdown",
   "metadata": {},
   "source": [
    "# Домашнее задание №4\n",
    "\n",
    "Решенный ноутбук нужно загрузить в [форму](https://docs.google.com/forms/d/1c3XtMCd-gTTSQMBSXaIohcM2K8Ek1Ps4E22gn6LfspA/edit)  \n",
    "Дедлайн: __16.12.2019__\n",
    "\n",
    "## Загрузка данных (5%)"
   ]
  },
  {
   "cell_type": "code",
   "execution_count": null,
   "metadata": {
    "collapsed": true
   },
   "outputs": [],
   "source": [
    "lfw_people = datasets.fetch_lfw_people(\n",
    "    min_faces_per_person=50, \n",
    "    resize=0.4,\n",
    ")"
   ]
  },
  {
   "cell_type": "markdown",
   "metadata": {},
   "source": [
    "Выведите:\n",
    "- кол-во объектов\n",
    "- Кол-во признаков\n",
    "- кол-во классов\n",
    "- посмотрите, сколько изображений соответствет каждому классу\n",
    "- Отрисуйте изображения для случайных семплов с подписями имен класса "
   ]
  },
  {
   "cell_type": "code",
   "execution_count": null,
   "metadata": {
    "collapsed": true
   },
   "outputs": [],
   "source": [
    "# Ваш код здесь"
   ]
  },
  {
   "cell_type": "markdown",
   "metadata": {},
   "source": [
    "## Пора учить нейронки! (5%) "
   ]
  },
  {
   "cell_type": "code",
   "execution_count": null,
   "metadata": {
    "collapsed": true
   },
   "outputs": [],
   "source": [
    "from keras.models import Sequential \n",
    "from keras.layers import Dense, Flatten, Activation, Conv2D, MaxPooling2D, Dropout \n",
    "from keras.utils import np_utils\n",
    "from keras.optimizers import Adam"
   ]
  },
  {
   "cell_type": "code",
   "execution_count": null,
   "metadata": {
    "collapsed": true
   },
   "outputs": [],
   "source": [
    "# Конечно мы сначала должны нормировать и центрировать данные: \n",
    "x = # Ваш код здесь\n",
    "y = # Ваш код здесь\n",
    "\n",
    "# используйте lfw_people.target и lfw_people.images"
   ]
  },
  {
   "cell_type": "code",
   "execution_count": null,
   "metadata": {
    "collapsed": true
   },
   "outputs": [],
   "source": [
    "# Разделим данные на трейн/валидацию/тест: \n",
    "x_train, x_test, y_train_cat, y_test_cat = train_test_split(x, y, train_size=0.6, test_size=0.4, random_state=42)\n",
    "x_val, x_test, y_val_cat, y_test_cat = train_test_split(x_test, y_test_cat, train_size=0.5, test_size=0.5, random_state=42)\n",
    "\n",
    "# Cделайте one-hot-encoding для целевой переменной\n",
    "\n",
    "# Ваш код здесь"
   ]
  },
  {
   "cell_type": "markdown",
   "metadata": {},
   "source": [
    "## Fully connected neural network (20%)\n",
    "Создадим нашу первую модель, будем использовать полносвязную нейронную сеть \n",
    "- Первый слой (входной): 64 нейрона, функция активации ReLU\n",
    "- Скрытый слой: 32 нейрона, функция активации ReLU\n",
    "- Чтобы наша сеть не переобучалась, после каждого полно-связного используйте слой Dropout с параметром rate = 0.4\n",
    "- Выходной слой: на ваше усмотрение :) \n",
    "\n",
    "Будем обучать с помощью Adam на 100 эпохах,  размер сэмпла для минибатча: 10\n",
    "\n",
    "Учимся на train, валидируем на val"
   ]
  },
  {
   "cell_type": "code",
   "execution_count": null,
   "metadata": {
    "collapsed": true
   },
   "outputs": [],
   "source": [
    "# Ваш код здесь"
   ]
  },
  {
   "cell_type": "markdown",
   "metadata": {},
   "source": [
    "Постройте confusion_matrix (используйте sklearn) на тестовой выборке (test) и посчитайте долю правильных ответов(test)"
   ]
  },
  {
   "cell_type": "code",
   "execution_count": null,
   "metadata": {
    "collapsed": true
   },
   "outputs": [],
   "source": [
    "confusionmatrix = # Ваш код здесь\n",
    "\n",
    "plt.figure(figsize=(12, 6))\n",
    "sns.heatmap(confusionmatrix, cmap='Greens', annot=True,\n",
    "            xticklabels=lfw_people.target_names,\n",
    "            yticklabels=lfw_people.target_names)\n",
    "plt.show()"
   ]
  },
  {
   "cell_type": "markdown",
   "metadata": {},
   "source": [
    "Оцените, кого с кем вы чаще всего путаете? Почему одних людей наша сеть путает с другими чаще?\n",
    "\n",
    "Вспомним, что в нашей задачи классы, не сбалансированы, какая получится доля правильных ответов, если мы всегда будем предсказывать константнам значением: George W Bush"
   ]
  },
  {
   "cell_type": "code",
   "execution_count": null,
   "metadata": {
    "collapsed": true
   },
   "outputs": [],
   "source": [
    "# Ваш код здесь"
   ]
  },
  {
   "cell_type": "markdown",
   "metadata": {},
   "source": [
    "## Это же картинки! Попробуем Convolution neural network (30%)\n",
    "\n",
    "- Используйте два сверточных слоя (по 16 нейронов с функцией активации ReLu, padding='same')\n",
    "- Затем слой MaxPooling'a с размерром 2х2\n",
    "- Затем полносвязные слои: 32 нейрона и 16 нейронов\n",
    "- Выходной слой как раньше \n",
    "\n",
    "Помните о требованиях свертки к размерности входных данных и используйте `.reshape`"
   ]
  },
  {
   "cell_type": "code",
   "execution_count": null,
   "metadata": {
    "collapsed": true
   },
   "outputs": [],
   "source": [
    "# Ваш код здесь"
   ]
  },
  {
   "cell_type": "markdown",
   "metadata": {},
   "source": [
    "Постройте confusion_matrix (используйте sklearn) на тестовой выборке (test) и посчитайте долю правильных ответов(test)"
   ]
  },
  {
   "cell_type": "code",
   "execution_count": null,
   "metadata": {
    "collapsed": true
   },
   "outputs": [],
   "source": [
    "confusionmatrix = # Ваш код здесь\n",
    "\n",
    "plt.figure(figsize=(12, 6))\n",
    "sns.heatmap(confusionmatrix, cmap='Greens', annot=True,\n",
    "            xticklabels=lfw_people.target_names,\n",
    "            yticklabels=lfw_people.target_names)\n",
    "plt.show()"
   ]
  },
  {
   "cell_type": "markdown",
   "metadata": {},
   "source": [
    "Кажется, что стало лучше, но постройте график зависимости доли правильных ответов от эпохи на обучении и валидации. Какие выводы можно сделать?  "
   ]
  },
  {
   "cell_type": "markdown",
   "metadata": {},
   "source": [
    "### Ваши ответы здесь"
   ]
  },
  {
   "cell_type": "markdown",
   "metadata": {},
   "source": [
    "## Aугментация дынных (40%)\n",
    "Вспомним, что для борьбы с переобучением, нам может помочь Aугментация, для этого мы будем использовать стандартные возможности Keras. Загляните в [доку](https://keras.io/preprocessing/image/) или в эту [статью](https://towardsdatascience.com/image-augmentation-for-deep-learning-using-keras-and-histogram-equalization-9329f6ae5085) \n",
    "\n",
    "Вы можете использовать любые аугментации"
   ]
  },
  {
   "cell_type": "code",
   "execution_count": null,
   "metadata": {
    "collapsed": true
   },
   "outputs": [],
   "source": [
    "from keras.preprocessing.image import ImageDataGenerator"
   ]
  },
  {
   "cell_type": "code",
   "execution_count": null,
   "metadata": {
    "collapsed": true
   },
   "outputs": [],
   "source": [
    "# Ваш код здесь"
   ]
  },
  {
   "cell_type": "markdown",
   "metadata": {},
   "source": [
    "Посмотрите долю правильных ответов на тестовой выборке и постройте график зависимости от эпох для обучения и валидации\n",
    "Ответьте на вопросы и объясните свой ответ: \n",
    "- Удалось ли Вам победить переобучение? \n",
    "- Будет ли полезна аугментация horizontal_flip?"
   ]
  },
  {
   "cell_type": "markdown",
   "metadata": {},
   "source": [
    "### Ваши ответы здесь"
   ]
  },
  {
   "cell_type": "markdown",
   "metadata": {},
   "source": [
    "## Дополнительное задание (дополнительные +30%) \n",
    "Обучите такую нейронную сеть, чтобы на тестовой выборке достичь доли правильных ответов больше 92%"
   ]
  },
  {
   "cell_type": "code",
   "execution_count": null,
   "metadata": {
    "collapsed": true
   },
   "outputs": [],
   "source": [
    "# Ваш код здесь"
   ]
  }
 ],
 "metadata": {
  "kernelspec": {
   "display_name": "Python 3",
   "language": "python",
   "name": "python3"
  },
  "language_info": {
   "codemirror_mode": {
    "name": "ipython",
    "version": 3
   },
   "file_extension": ".py",
   "mimetype": "text/x-python",
   "name": "python",
   "nbconvert_exporter": "python",
   "pygments_lexer": "ipython3",
   "version": "3.7.5"
  }
 },
 "nbformat": 4,
 "nbformat_minor": 2
}
