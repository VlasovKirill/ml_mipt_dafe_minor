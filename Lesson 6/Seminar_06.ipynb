{
 "cells": [
  {
   "cell_type": "markdown",
   "metadata": {},
   "source": [
    "# Семинар 6 - Композиции алгоритмов"
   ]
  },
  {
   "cell_type": "code",
   "execution_count": null,
   "metadata": {},
   "outputs": [],
   "source": [
    "import pandas as pd\n",
    "import numpy as np\n",
    "%matplotlib inline\n",
    "import seaborn as sns\n",
    "import matplotlib.pyplot as plt\n",
    "sns.set(palette='deep', style='darkgrid', rc={\"figure.figsize\": (15, 4)})\n",
    "import scipy.stats as st\n",
    "\n",
    "import warnings\n",
    "warnings.simplefilter('ignore')"
   ]
  },
  {
   "cell_type": "code",
   "execution_count": null,
   "metadata": {},
   "outputs": [],
   "source": [
    "# Загрузим данные и проведем все предобработки как на семинаре: \n",
    "data = pd.read_csv('../data/flight_delays_train.csv')\n",
    "data['dep_delayed_15min'] = data['dep_delayed_15min'].apply(lambda x: 1 if x == 'Y' else 0)\n",
    "data['Month'] = data['Month'].str.replace('c-', '').astype('int16')\n",
    "data['DayofMonth'] = data['DayofMonth'].str.replace('c-', '').astype('int16')\n",
    "data['DayOfWeek'] = data['DayOfWeek'].str.replace('c-', '').astype('int16')\n",
    "data['UniqueCarrier'] = pd.factorize(data['UniqueCarrier'])[0]\n",
    "data['Origin'] = pd.factorize(data['Origin'])[0]\n",
    "data['Dest'] = pd.factorize(data['Dest'])[0]\n",
    "\n",
    "x = data.drop('dep_delayed_15min', axis=1)\n",
    "y = data['dep_delayed_15min'].values\n",
    "\n",
    "data.shape"
   ]
  },
  {
   "cell_type": "code",
   "execution_count": null,
   "metadata": {},
   "outputs": [],
   "source": [
    "# Пусть бдет более вещественным числом (так как 60 минут в часах)\n",
    "data['DepTime_real'] = data['DepTime'].apply(lambda x: int(x/100)+((x/100-int(x/100))*100)/59)"
   ]
  },
  {
   "cell_type": "markdown",
   "metadata": {},
   "source": [
    "# Bootstrap\n",
    "Посмотрим плотности распредления переменной \"Время Вылета\" для задержки менее 15 минут и более"
   ]
  },
  {
   "cell_type": "code",
   "execution_count": null,
   "metadata": {},
   "outputs": [],
   "source": [
    "sns.kdeplot(data[data['dep_delayed_15min'] == 0]['DepTime_real'], label='Задержка рейса менее 15 мин')\n",
    "sns.kdeplot(data[data['dep_delayed_15min'] == 1]['DepTime_real'], label='Задержка рейса более 15 мин')\n",
    "plt.legend()\n",
    "plt.show()"
   ]
  },
  {
   "cell_type": "code",
   "execution_count": null,
   "metadata": {},
   "outputs": [],
   "source": [
    "print('Среднее', data[data['dep_delayed_15min'] == 1]['DepTime_real'].mean())\n",
    "print('Среднее', data[data['dep_delayed_15min'] == 0]['DepTime_real'].mean())"
   ]
  },
  {
   "cell_type": "code",
   "execution_count": null,
   "metadata": {},
   "outputs": [],
   "source": [
    "def get_bootstrap_samples(data, n_samples):\n",
    "    # функция для генерации подвыборок с помощью бутстрэпа\n",
    "    indices = np.random.randint(0, len(data), (n_samples, len(data)))\n",
    "    samples = data[indices]\n",
    "    return samples\n",
    "\n",
    "def stat_intervals(stat, alpha):\n",
    "    # функция для интервальной оценки\n",
    "    boundaries = np.percentile(stat, [100 * alpha / 2., 100 * (1 - alpha / 2.)])\n",
    "    return boundaries"
   ]
  },
  {
   "cell_type": "code",
   "execution_count": null,
   "metadata": {},
   "outputs": [],
   "source": [
    "# сохранение в отдельные numpy массивы данных по вылетам с задержками и без \n",
    "no_delayed = data[data['dep_delayed_15min'] == 0]['DepTime_real'].values\n",
    "delayed = data[data['dep_delayed_15min'] == 1]['DepTime_real'].values\n",
    "\n",
    "# ставим seed для воспроизводимости результатов\n",
    "np.random.seed(0)\n",
    "\n",
    "# генерируем 1000 выборок с помощью бутстрэпа и сразу считаем по каждой из них среднее\n",
    "no_delayed_mean_scores = [np.mean(sample) \n",
    "                       for sample in get_bootstrap_samples(no_delayed, 1000)]\n",
    "delayed_mean_scores = [np.mean(sample) \n",
    "                       for sample in get_bootstrap_samples(delayed, 1000)]"
   ]
  },
  {
   "cell_type": "code",
   "execution_count": null,
   "metadata": {},
   "outputs": [],
   "source": [
    "#  выводим интервальную оценку среднего\n",
    "print(\"Среднее время вылета по рейсам без задержек в интервале:\",  stat_intervals(no_delayed_mean_scores, 0.05))\n",
    "print(\"Среднее время вылета по рейсам с задержками в интервале:\",  stat_intervals(delayed_mean_scores, 0.05))"
   ]
  },
  {
   "cell_type": "markdown",
   "metadata": {},
   "source": [
    "Sub-sampling (_pasting_) тоесть выборка без повторений - достойная альтернатива"
   ]
  },
  {
   "cell_type": "markdown",
   "metadata": {},
   "source": [
    "# Bagging (Bootstrap aggregating)"
   ]
  },
  {
   "cell_type": "code",
   "execution_count": null,
   "metadata": {},
   "outputs": [],
   "source": [
    "from sklearn.ensemble import BaggingClassifier, BaggingRegressor, RandomForestClassifier\n",
    "from sklearn.model_selection import train_test_split, cross_val_score\n",
    "from sklearn.tree import DecisionTreeClassifier, DecisionTreeRegressor\n",
    "from sklearn.metrics import roc_auc_score, accuracy_score"
   ]
  },
  {
   "cell_type": "code",
   "execution_count": null,
   "metadata": {},
   "outputs": [],
   "source": [
    "tree = DecisionTreeClassifier()\n",
    "bag_of_trees = BaggingClassifier(tree, n_estimators=20)"
   ]
  },
  {
   "cell_type": "code",
   "execution_count": null,
   "metadata": {},
   "outputs": [],
   "source": [
    "# Посчитаем значение метрики accuracy на кроссвалидаци для дерева\n",
    "np.mean(cross_val_score(tree, x, y, cv=3, scoring='accuracy'))"
   ]
  },
  {
   "cell_type": "code",
   "execution_count": null,
   "metadata": {},
   "outputs": [],
   "source": [
    "# Посчитаем значение метрики accuracy на кроссвалидаци для композиции деревьев построенной на бутстрап выборке\n",
    "np.mean(cross_val_score(bag_of_trees, x, y, cv=3, scoring='accuracy'))"
   ]
  },
  {
   "cell_type": "markdown",
   "metadata": {},
   "source": [
    "### Out-of-bag error\n",
    "\n",
    "На каждом шаге все объекты попадают в подвыборку с возвращением равновероятно, значит:  \n",
    "Вероятность, что объект попадет в выборку: $ \\frac {1}{l}$   \n",
    "\n",
    "Вероятность, что объект не попадет в выборку: $ 1-\\frac {1}{l}$    \n",
    "  \n",
    "Так как мы тянем $l$ раз, то  вероятность, что объект не попадет во всю выборку: $ \\bigl( 1-\\frac {1}{l} \\bigr) ^l$ \n",
    "\n",
    "Значит, при  $l \\rightarrow \\infty$ что вероятность, что объект не поппадает в выборку: $ \\frac {1}{e} \\approx 0.37 $      \n",
    "  \n",
    "__Вывод:__ При формировании Bootstrap выборки в нее попадает только __63%__ объектов   \n",
    "__Свойство:__ Можно вычислять Out-of-bag error и не проводить кроссвалидацию"
   ]
  },
  {
   "cell_type": "code",
   "execution_count": null,
   "metadata": {},
   "outputs": [],
   "source": [
    "tree = DecisionTreeClassifier()\n",
    "bag_of_trees = BaggingClassifier(tree, n_estimators=20, oob_score=True, n_jobs=-1)"
   ]
  },
  {
   "cell_type": "code",
   "execution_count": null,
   "metadata": {},
   "outputs": [],
   "source": [
    "bag_of_trees.fit(x,y)\n",
    "bag_of_trees.oob_score_"
   ]
  },
  {
   "cell_type": "markdown",
   "metadata": {},
   "source": [
    "### Как можно добавить случайности? \n",
    "\n",
    "Например: Ограничить кол-во признаков, по которым проводить разбиение"
   ]
  },
  {
   "cell_type": "code",
   "execution_count": null,
   "metadata": {},
   "outputs": [],
   "source": [
    "tree = DecisionTreeClassifier(max_features=2)\n",
    "bag_of_trees = BaggingClassifier(tree, n_estimators=20, oob_score=True, n_jobs=-1)\n",
    "\n",
    "bag_of_trees.fit(x,y)\n",
    "bag_of_trees.oob_score_"
   ]
  },
  {
   "cell_type": "markdown",
   "metadata": {},
   "source": [
    "Почему это работает, и зачем нам нужна случайность?"
   ]
  },
  {
   "cell_type": "markdown",
   "metadata": {},
   "source": [
    "# Случайный лес"
   ]
  },
  {
   "cell_type": "code",
   "execution_count": null,
   "metadata": {},
   "outputs": [],
   "source": [
    "forest = RandomForestClassifier(n_estimators=20, n_jobs=-1)\n",
    "np.mean(cross_val_score(forest, x,y, cv=3, n_jobs=-1, scoring='accuracy'))"
   ]
  },
  {
   "cell_type": "markdown",
   "metadata": {},
   "source": [
    "\n",
    "\n",
    "\n",
    "### Что будет, если ограничить глубину построенных деревьев? "
   ]
  },
  {
   "cell_type": "code",
   "execution_count": null,
   "metadata": {},
   "outputs": [],
   "source": [
    "#Разделим выборку на обущающую и тестовую\n",
    "x_train, x_test, y_train, y_test = train_test_split(x, y, train_size=0.7, test_size=0.3, \\\n",
    "                                                    shuffle=True, random_state=21)"
   ]
  },
  {
   "cell_type": "code",
   "execution_count": null,
   "metadata": {},
   "outputs": [],
   "source": [
    "train_score = []\n",
    "test_score = []\n",
    "\n",
    "\n",
    "for i in range(50):\n",
    "    forest = RandomForestClassifier(n_estimators=50, n_jobs=-1, max_depth=i+1, min_samples_leaf=50)\n",
    "    forest.fit(x_train, y_train)\n",
    "    train_score = np.append(train_score, accuracy_score(y_train, forest.predict(x_train)))\n",
    "    test_score = np.append(test_score, accuracy_score(y_test, forest.predict(x_test)))"
   ]
  },
  {
   "cell_type": "code",
   "execution_count": null,
   "metadata": {},
   "outputs": [],
   "source": [
    "plt.plot(train_score)\n",
    "plt.plot(test_score)\n",
    "plt.show()"
   ]
  },
  {
   "cell_type": "code",
   "execution_count": null,
   "metadata": {},
   "outputs": [],
   "source": []
  },
  {
   "cell_type": "code",
   "execution_count": null,
   "metadata": {},
   "outputs": [],
   "source": []
  }
 ],
 "metadata": {
  "kernelspec": {
   "display_name": "Python 3",
   "language": "python",
   "name": "python3"
  },
  "language_info": {
   "codemirror_mode": {
    "name": "ipython",
    "version": 3
   },
   "file_extension": ".py",
   "mimetype": "text/x-python",
   "name": "python",
   "nbconvert_exporter": "python",
   "pygments_lexer": "ipython3",
   "version": "3.5.2"
  }
 },
 "nbformat": 4,
 "nbformat_minor": 2
}
