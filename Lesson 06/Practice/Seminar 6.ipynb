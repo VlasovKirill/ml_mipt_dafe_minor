{
 "cells": [
  {
   "cell_type": "code",
   "execution_count": 1,
   "metadata": {},
   "outputs": [],
   "source": [
    "import pandas as pd\n",
    "import numpy as np\n",
    "\n",
    "import matplotlib.pyplot as plt\n",
    "from tqdm import tqdm\n",
    "import warnings\n",
    "warnings.simplefilter('ignore')"
   ]
  },
  {
   "cell_type": "markdown",
   "metadata": {},
   "source": [
    "# Seminar 7 - Погружение в глубокое обучение\n",
    "В семинаре, будем использовать набор данных `fashion_mnist`, загрузим их"
   ]
  },
  {
   "cell_type": "code",
   "execution_count": 2,
   "metadata": {},
   "outputs": [
    {
     "name": "stderr",
     "output_type": "stream",
     "text": [
      "Using TensorFlow backend.\n"
     ]
    },
    {
     "name": "stdout",
     "output_type": "stream",
     "text": [
      "Training data shape:  (60000, 28, 28)\n",
      "Test data shape:  (10000, 28, 28)\n"
     ]
    }
   ],
   "source": [
    "from keras.datasets import fashion_mnist\n",
    "(x_train, y_train_cat), (x_test, y_test_cat) = fashion_mnist.load_data()\n",
    "print('Training data shape: ', x_train.shape)\n",
    "print('Test data shape: ', x_test.shape)\n",
    "\n",
    "num_classes = 10\n",
    "class_names = ['T-shirt/top', 'Trouser', 'Pullover', \n",
    "               'Dress', 'Coat', 'Sandal', 'Shirt', 'Sneaker', 'Bag', 'Ankle boot']"
   ]
  },
  {
   "cell_type": "markdown",
   "metadata": {},
   "source": [
    "Сгенерируем случаные примеры для каждого класса и посмотрим на них."
   ]
  },
  {
   "cell_type": "code",
   "execution_count": 3,
   "metadata": {},
   "outputs": [
    {
     "data": {
      "image/png": "[encoded data removed]",
      "text/plain": [
       "<Figure size 1080x360 with 10 Axes>"
      ]
     },
     "metadata": {},
     "output_type": "display_data"
    }
   ],
   "source": [
    "fig = plt.figure(figsize=(15,5))\n",
    "for i in range(num_classes):\n",
    "    ax = fig.add_subplot(2, 5, 1 + i, xticks=[], yticks=[])\n",
    "    idx = np.where(y_train_cat[:]==i)[0]\n",
    "    features_idx = x_train[idx,::]\n",
    "    img_num = np.random.randint(features_idx.shape[0])\n",
    "    im = features_idx[img_num]\n",
    "    ax.set_title(class_names[i])\n",
    "    plt.imshow(im, cmap='gray_r')\n",
    "plt.show()"
   ]
  },
  {
   "cell_type": "markdown",
   "metadata": {},
   "source": [
    "##  Построим нашу первую нейросеть\n",
    "Импорт `Keras`"
   ]
  },
  {
   "cell_type": "code",
   "execution_count": 4,
   "metadata": {},
   "outputs": [],
   "source": [
    "from keras.models import Sequential # Модель, где все слои соединены друг с другом\n",
    "from keras.layers import Dense, Flatten, Activation # Слой, где все нйероны предыдущего уровня соединены с нейронами следующего\n",
    "from keras.utils import np_utils\n",
    "from keras.optimizers import SGD,Adam,RMSprop"
   ]
  },
  {
   "cell_type": "markdown",
   "metadata": {},
   "source": [
    "### Проведем небольшие предобработки"
   ]
  },
  {
   "cell_type": "code",
   "execution_count": 5,
   "metadata": {},
   "outputs": [],
   "source": [
    "y_train = np_utils.to_categorical(y_train_cat, num_classes=num_classes)\n",
    "y_test = np_utils.to_categorical(y_test_cat, num_classes=num_classes)"
   ]
  },
  {
   "cell_type": "markdown",
   "metadata": {},
   "source": [
    "### Построим модель"
   ]
  },
  {
   "cell_type": "code",
   "execution_count": 6,
   "metadata": {},
   "outputs": [],
   "source": [
    "input_shape = x_train.shape[1:]"
   ]
  },
  {
   "cell_type": "code",
   "execution_count": 7,
   "metadata": {},
   "outputs": [],
   "source": [
    "# Создаем последовательную модель\n",
    "model = Sequential()\n",
    "\n",
    "# Добавляем слои\n",
    "model.add(Flatten(input_shape=input_shape))\n",
    "model.add(Dense(200))\n",
    "model.add(Activation('sigmoid'))\n",
    "model.add(Dense(100))\n",
    "model.add(Activation('sigmoid'))\n",
    "model.add(Dense(10))\n",
    "model.add(Activation('softmax'))\n",
    "\n",
    "# Компилируем модель\n",
    "optimizer = SGD(lr=0.1)\n",
    "model.compile(optimizer=optimizer, loss='categorical_crossentropy', metrics=['accuracy'])"
   ]
  },
  {
   "cell_type": "code",
   "execution_count": 8,
   "metadata": {},
   "outputs": [
    {
     "name": "stdout",
     "output_type": "stream",
     "text": [
      "_________________________________________________________________\n",
      "Layer (type)                 Output Shape              Param #   \n",
      "=================================================================\n",
      "flatten_1 (Flatten)          (None, 784)               0         \n",
      "_________________________________________________________________\n",
      "dense_1 (Dense)              (None, 200)               157000    \n",
      "_________________________________________________________________\n",
      "activation_1 (Activation)    (None, 200)               0         \n",
      "_________________________________________________________________\n",
      "dense_2 (Dense)              (None, 100)               20100     \n",
      "_________________________________________________________________\n",
      "activation_2 (Activation)    (None, 100)               0         \n",
      "_________________________________________________________________\n",
      "dense_3 (Dense)              (None, 10)                1010      \n",
      "_________________________________________________________________\n",
      "activation_3 (Activation)    (None, 10)                0         \n",
      "=================================================================\n",
      "Total params: 178,110\n",
      "Trainable params: 178,110\n",
      "Non-trainable params: 0\n",
      "_________________________________________________________________\n",
      "None\n"
     ]
    }
   ],
   "source": [
    "print(model.summary())"
   ]
  },
  {
   "cell_type": "markdown",
   "metadata": {},
   "source": [
    "#### Вопрос: \n",
    "Почему: $784 \\times 200 = 156 800$, а сетка показывает число параметров: $157000$?"
   ]
  },
  {
   "cell_type": "markdown",
   "metadata": {},
   "source": [
    "### Обучим модель, задав параметры"
   ]
  },
  {
   "cell_type": "code",
   "execution_count": 9,
   "metadata": {},
   "outputs": [],
   "source": [
    "batch_size = 1000 # Выбираем размер Батча\n",
    "epochs = 100"
   ]
  },
  {
   "cell_type": "code",
   "execution_count": 10,
   "metadata": {
    "scrolled": true
   },
   "outputs": [
    {
     "name": "stdout",
     "output_type": "stream",
     "text": [
      "Train on 60000 samples, validate on 10000 samples\n",
      "Epoch 1/100\n",
      "60000/60000 [==============================] - 0s 8us/step - loss: 1.6720 - acc: 0.6010 - val_loss: 1.2752 - val_acc: 0.7047\n",
      "Epoch 2/100\n",
      "60000/60000 [==============================] - 0s 6us/step - loss: 1.0649 - acc: 0.7312 - val_loss: 0.9227 - val_acc: 0.7391\n",
      "Epoch 3/100\n",
      "60000/60000 [==============================] - 0s 7us/step - loss: 0.8236 - acc: 0.7644 - val_loss: 0.7687 - val_acc: 0.7566\n",
      "Epoch 4/100\n",
      "60000/60000 [==============================] - 0s 6us/step - loss: 0.7037 - acc: 0.7842 - val_loss: 0.6763 - val_acc: 0.7817\n",
      "Epoch 5/100\n",
      "60000/60000 [==============================] - 0s 6us/step - loss: 0.6318 - acc: 0.7990 - val_loss: 0.6320 - val_acc: 0.7920\n",
      "Epoch 6/100\n",
      "60000/60000 [==============================] - 0s 6us/step - loss: 0.5857 - acc: 0.8084 - val_loss: 0.5949 - val_acc: 0.8014\n",
      "Epoch 7/100\n",
      "60000/60000 [==============================] - 0s 6us/step - loss: 0.5520 - acc: 0.8167 - val_loss: 0.5739 - val_acc: 0.7987\n",
      "Epoch 8/100\n",
      "60000/60000 [==============================] - 0s 7us/step - loss: 0.5334 - acc: 0.8211 - val_loss: 0.5492 - val_acc: 0.8129\n",
      "Epoch 9/100\n",
      "60000/60000 [==============================] - 0s 6us/step - loss: 0.5159 - acc: 0.8247 - val_loss: 0.5362 - val_acc: 0.8102\n",
      "Epoch 10/100\n",
      "60000/60000 [==============================] - 0s 6us/step - loss: 0.5060 - acc: 0.8249 - val_loss: 0.5259 - val_acc: 0.8160\n",
      "Epoch 11/100\n",
      "60000/60000 [==============================] - 0s 7us/step - loss: 0.4960 - acc: 0.8296 - val_loss: 0.5143 - val_acc: 0.8197\n",
      "Epoch 12/100\n",
      "60000/60000 [==============================] - 0s 6us/step - loss: 0.4839 - acc: 0.8333 - val_loss: 0.5130 - val_acc: 0.8229\n",
      "Epoch 13/100\n",
      "60000/60000 [==============================] - 0s 7us/step - loss: 0.4793 - acc: 0.8351 - val_loss: 0.5090 - val_acc: 0.8203\n",
      "Epoch 14/100\n",
      "60000/60000 [==============================] - 0s 7us/step - loss: 0.4695 - acc: 0.8362 - val_loss: 0.5043 - val_acc: 0.8239\n",
      "Epoch 15/100\n",
      "60000/60000 [==============================] - 0s 6us/step - loss: 0.4694 - acc: 0.8375 - val_loss: 0.4931 - val_acc: 0.8234\n",
      "Epoch 16/100\n",
      "60000/60000 [==============================] - 0s 6us/step - loss: 0.4629 - acc: 0.8381 - val_loss: 0.4918 - val_acc: 0.8268\n",
      "Epoch 17/100\n",
      "60000/60000 [==============================] - 0s 6us/step - loss: 0.4593 - acc: 0.8403 - val_loss: 0.4955 - val_acc: 0.8250\n",
      "Epoch 18/100\n",
      "60000/60000 [==============================] - 0s 6us/step - loss: 0.4577 - acc: 0.8377 - val_loss: 0.4909 - val_acc: 0.8259\n",
      "Epoch 19/100\n",
      "60000/60000 [==============================] - 0s 7us/step - loss: 0.4519 - acc: 0.8413 - val_loss: 0.4983 - val_acc: 0.8291\n",
      "Epoch 20/100\n",
      "60000/60000 [==============================] - 0s 6us/step - loss: 0.4543 - acc: 0.8426 - val_loss: 0.4815 - val_acc: 0.8293\n",
      "Epoch 21/100\n",
      "60000/60000 [==============================] - 0s 7us/step - loss: 0.4472 - acc: 0.8413 - val_loss: 0.4781 - val_acc: 0.8274\n",
      "Epoch 22/100\n",
      "60000/60000 [==============================] - 0s 6us/step - loss: 0.4447 - acc: 0.8441 - val_loss: 0.4735 - val_acc: 0.8305\n",
      "Epoch 23/100\n",
      "60000/60000 [==============================] - 0s 6us/step - loss: 0.4424 - acc: 0.8434 - val_loss: 0.4800 - val_acc: 0.8260\n",
      "Epoch 24/100\n",
      "60000/60000 [==============================] - 0s 7us/step - loss: 0.4409 - acc: 0.8445 - val_loss: 0.4698 - val_acc: 0.8333\n",
      "Epoch 25/100\n",
      "60000/60000 [==============================] - 0s 6us/step - loss: 0.4375 - acc: 0.8459 - val_loss: 0.4696 - val_acc: 0.8360\n",
      "Epoch 26/100\n",
      "60000/60000 [==============================] - 0s 6us/step - loss: 0.4362 - acc: 0.8476 - val_loss: 0.4754 - val_acc: 0.8340\n",
      "Epoch 27/100\n",
      "60000/60000 [==============================] - 0s 6us/step - loss: 0.4371 - acc: 0.8466 - val_loss: 0.4738 - val_acc: 0.8348\n",
      "Epoch 28/100\n",
      "60000/60000 [==============================] - 0s 6us/step - loss: 0.4380 - acc: 0.8456 - val_loss: 0.4645 - val_acc: 0.8348\n",
      "Epoch 29/100\n",
      "60000/60000 [==============================] - 0s 7us/step - loss: 0.4348 - acc: 0.8487 - val_loss: 0.4888 - val_acc: 0.8299\n",
      "Epoch 30/100\n",
      "60000/60000 [==============================] - 0s 7us/step - loss: 0.4363 - acc: 0.8472 - val_loss: 0.4709 - val_acc: 0.8311\n",
      "Epoch 31/100\n",
      "60000/60000 [==============================] - 0s 6us/step - loss: 0.4328 - acc: 0.8485 - val_loss: 0.4715 - val_acc: 0.8332\n",
      "Epoch 32/100\n",
      "60000/60000 [==============================] - 0s 6us/step - loss: 0.4337 - acc: 0.8480 - val_loss: 0.4762 - val_acc: 0.8325\n",
      "Epoch 33/100\n",
      "60000/60000 [==============================] - 0s 6us/step - loss: 0.4371 - acc: 0.8470 - val_loss: 0.4708 - val_acc: 0.8350\n",
      "Epoch 34/100\n",
      "60000/60000 [==============================] - 0s 7us/step - loss: 0.4361 - acc: 0.8489 - val_loss: 0.4822 - val_acc: 0.8278\n",
      "Epoch 35/100\n",
      "60000/60000 [==============================] - 0s 7us/step - loss: 0.4403 - acc: 0.8456 - val_loss: 0.5077 - val_acc: 0.8091\n",
      "Epoch 36/100\n",
      "60000/60000 [==============================] - 0s 6us/step - loss: 0.4401 - acc: 0.8439 - val_loss: 0.4788 - val_acc: 0.8304\n",
      "Epoch 37/100\n",
      "60000/60000 [==============================] - 0s 6us/step - loss: 0.4309 - acc: 0.8483 - val_loss: 0.4728 - val_acc: 0.8343\n",
      "Epoch 38/100\n",
      "60000/60000 [==============================] - 0s 6us/step - loss: 0.4307 - acc: 0.8494 - val_loss: 0.4716 - val_acc: 0.8342\n",
      "Epoch 39/100\n",
      "60000/60000 [==============================] - 0s 6us/step - loss: 0.4281 - acc: 0.8498 - val_loss: 0.4605 - val_acc: 0.8397\n",
      "Epoch 40/100\n",
      "60000/60000 [==============================] - 0s 7us/step - loss: 0.4359 - acc: 0.8486 - val_loss: 0.4643 - val_acc: 0.8411\n",
      "Epoch 41/100\n",
      "60000/60000 [==============================] - 0s 6us/step - loss: 0.4385 - acc: 0.8471 - val_loss: 0.4857 - val_acc: 0.8273\n",
      "Epoch 42/100\n",
      "60000/60000 [==============================] - 0s 6us/step - loss: 0.4383 - acc: 0.8469 - val_loss: 0.4728 - val_acc: 0.8319\n",
      "Epoch 43/100\n",
      "60000/60000 [==============================] - 0s 6us/step - loss: 0.4372 - acc: 0.8460 - val_loss: 0.4910 - val_acc: 0.8262\n",
      "Epoch 44/100\n",
      "60000/60000 [==============================] - 0s 6us/step - loss: 0.4381 - acc: 0.8468 - val_loss: 0.4598 - val_acc: 0.8394\n",
      "Epoch 45/100\n",
      "60000/60000 [==============================] - 0s 8us/step - loss: 0.4296 - acc: 0.8484 - val_loss: 0.4659 - val_acc: 0.8342\n",
      "Epoch 46/100\n",
      "60000/60000 [==============================] - 0s 7us/step - loss: 0.4322 - acc: 0.8477 - val_loss: 0.4772 - val_acc: 0.8296\n",
      "Epoch 47/100\n",
      "60000/60000 [==============================] - 0s 6us/step - loss: 0.4360 - acc: 0.8456 - val_loss: 0.4868 - val_acc: 0.8337\n",
      "Epoch 48/100\n",
      "60000/60000 [==============================] - 0s 6us/step - loss: 0.4451 - acc: 0.8430 - val_loss: 0.4734 - val_acc: 0.8362\n",
      "Epoch 49/100\n",
      "60000/60000 [==============================] - 0s 6us/step - loss: 0.4412 - acc: 0.8459 - val_loss: 0.4638 - val_acc: 0.8356\n",
      "Epoch 50/100\n",
      "60000/60000 [==============================] - 0s 7us/step - loss: 0.4254 - acc: 0.8505 - val_loss: 0.4761 - val_acc: 0.8315\n",
      "Epoch 51/100\n",
      "60000/60000 [==============================] - 0s 6us/step - loss: 0.4290 - acc: 0.8470 - val_loss: 0.4581 - val_acc: 0.8357\n",
      "Epoch 52/100\n",
      "60000/60000 [==============================] - 0s 7us/step - loss: 0.4391 - acc: 0.8442 - val_loss: 0.4831 - val_acc: 0.8309\n",
      "Epoch 53/100\n",
      "60000/60000 [==============================] - 0s 6us/step - loss: 0.4461 - acc: 0.8417 - val_loss: 0.4826 - val_acc: 0.8283\n",
      "Epoch 54/100\n",
      "60000/60000 [==============================] - 0s 6us/step - loss: 0.4392 - acc: 0.8451 - val_loss: 0.4832 - val_acc: 0.8270\n",
      "Epoch 55/100\n",
      "60000/60000 [==============================] - 0s 8us/step - loss: 0.4384 - acc: 0.8448 - val_loss: 0.4821 - val_acc: 0.8295\n",
      "Epoch 56/100\n",
      "60000/60000 [==============================] - 0s 7us/step - loss: 0.4414 - acc: 0.8452 - val_loss: 0.4797 - val_acc: 0.8346\n",
      "Epoch 57/100\n",
      "60000/60000 [==============================] - 0s 7us/step - loss: 0.4424 - acc: 0.8442 - val_loss: 0.4861 - val_acc: 0.8279\n",
      "Epoch 58/100\n",
      "60000/60000 [==============================] - 0s 6us/step - loss: 0.4342 - acc: 0.8448 - val_loss: 0.4812 - val_acc: 0.8310\n",
      "Epoch 59/100\n",
      "60000/60000 [==============================] - 0s 6us/step - loss: 0.4389 - acc: 0.8466 - val_loss: 0.4823 - val_acc: 0.8279\n",
      "Epoch 60/100\n"
     ]
    },
    {
     "name": "stdout",
     "output_type": "stream",
     "text": [
      "60000/60000 [==============================] - 0s 7us/step - loss: 0.4375 - acc: 0.8472 - val_loss: 0.4830 - val_acc: 0.8268\n",
      "Epoch 61/100\n",
      "60000/60000 [==============================] - 0s 7us/step - loss: 0.4318 - acc: 0.8486 - val_loss: 0.4740 - val_acc: 0.8332\n",
      "Epoch 62/100\n",
      "60000/60000 [==============================] - 0s 6us/step - loss: 0.4323 - acc: 0.8482 - val_loss: 0.4704 - val_acc: 0.8319\n",
      "Epoch 63/100\n",
      "60000/60000 [==============================] - 0s 6us/step - loss: 0.4258 - acc: 0.8493 - val_loss: 0.4627 - val_acc: 0.8380\n",
      "Epoch 64/100\n",
      "60000/60000 [==============================] - 0s 6us/step - loss: 0.4297 - acc: 0.8489 - val_loss: 0.4750 - val_acc: 0.8331\n",
      "Epoch 65/100\n",
      "60000/60000 [==============================] - 0s 7us/step - loss: 0.4333 - acc: 0.8473 - val_loss: 0.4855 - val_acc: 0.8280\n",
      "Epoch 66/100\n",
      "60000/60000 [==============================] - 0s 7us/step - loss: 0.4509 - acc: 0.8419 - val_loss: 0.4882 - val_acc: 0.8267\n",
      "Epoch 67/100\n",
      "60000/60000 [==============================] - 0s 6us/step - loss: 0.4474 - acc: 0.8418 - val_loss: 0.4855 - val_acc: 0.8261\n",
      "Epoch 68/100\n",
      "60000/60000 [==============================] - 0s 6us/step - loss: 0.4382 - acc: 0.8473 - val_loss: 0.4716 - val_acc: 0.8354\n",
      "Epoch 69/100\n",
      "60000/60000 [==============================] - 0s 6us/step - loss: 0.4319 - acc: 0.8472 - val_loss: 0.4824 - val_acc: 0.8257\n",
      "Epoch 70/100\n",
      "60000/60000 [==============================] - 0s 6us/step - loss: 0.4348 - acc: 0.8464 - val_loss: 0.4878 - val_acc: 0.8239\n",
      "Epoch 71/100\n",
      "60000/60000 [==============================] - 0s 8us/step - loss: 0.4386 - acc: 0.8454 - val_loss: 0.4669 - val_acc: 0.8361\n",
      "Epoch 72/100\n",
      "60000/60000 [==============================] - 0s 6us/step - loss: 0.4377 - acc: 0.8450 - val_loss: 0.4759 - val_acc: 0.8335\n",
      "Epoch 73/100\n",
      "60000/60000 [==============================] - 0s 6us/step - loss: 0.4360 - acc: 0.8455 - val_loss: 0.4674 - val_acc: 0.8346\n",
      "Epoch 74/100\n",
      "60000/60000 [==============================] - 0s 6us/step - loss: 0.4377 - acc: 0.8464 - val_loss: 0.5042 - val_acc: 0.8180\n",
      "Epoch 75/100\n",
      "60000/60000 [==============================] - 0s 6us/step - loss: 0.4404 - acc: 0.8445 - val_loss: 0.4821 - val_acc: 0.8315\n",
      "Epoch 76/100\n",
      "60000/60000 [==============================] - 0s 7us/step - loss: 0.4398 - acc: 0.8468 - val_loss: 0.4907 - val_acc: 0.8242\n",
      "Epoch 77/100\n",
      "60000/60000 [==============================] - 0s 7us/step - loss: 0.4343 - acc: 0.8460 - val_loss: 0.4613 - val_acc: 0.8360\n",
      "Epoch 78/100\n",
      "60000/60000 [==============================] - 0s 6us/step - loss: 0.4296 - acc: 0.8465 - val_loss: 0.4883 - val_acc: 0.8241\n",
      "Epoch 79/100\n",
      "60000/60000 [==============================] - 0s 6us/step - loss: 0.4412 - acc: 0.8397 - val_loss: 0.4820 - val_acc: 0.8279\n",
      "Epoch 80/100\n",
      "60000/60000 [==============================] - 0s 6us/step - loss: 0.4443 - acc: 0.8414 - val_loss: 0.4868 - val_acc: 0.8292\n",
      "Epoch 81/100\n",
      "60000/60000 [==============================] - 0s 7us/step - loss: 0.4487 - acc: 0.8410 - val_loss: 0.4950 - val_acc: 0.8212\n",
      "Epoch 82/100\n",
      "60000/60000 [==============================] - 0s 7us/step - loss: 0.4570 - acc: 0.8382 - val_loss: 0.4978 - val_acc: 0.8208\n",
      "Epoch 83/100\n",
      "60000/60000 [==============================] - 0s 6us/step - loss: 0.4544 - acc: 0.8381 - val_loss: 0.5094 - val_acc: 0.8180\n",
      "Epoch 84/100\n",
      "60000/60000 [==============================] - 0s 6us/step - loss: 0.4544 - acc: 0.8386 - val_loss: 0.4821 - val_acc: 0.8311\n",
      "Epoch 85/100\n",
      "60000/60000 [==============================] - 0s 6us/step - loss: 0.4441 - acc: 0.8435 - val_loss: 0.4915 - val_acc: 0.8230\n",
      "Epoch 86/100\n",
      "60000/60000 [==============================] - 0s 7us/step - loss: 0.4404 - acc: 0.8436 - val_loss: 0.4796 - val_acc: 0.8293\n",
      "Epoch 87/100\n",
      "60000/60000 [==============================] - 0s 7us/step - loss: 0.4436 - acc: 0.8386 - val_loss: 0.4882 - val_acc: 0.8238\n",
      "Epoch 88/100\n",
      "60000/60000 [==============================] - 0s 6us/step - loss: 0.4438 - acc: 0.8434 - val_loss: 0.5048 - val_acc: 0.8172\n",
      "Epoch 89/100\n",
      "60000/60000 [==============================] - 0s 6us/step - loss: 0.4567 - acc: 0.8343 - val_loss: 0.4943 - val_acc: 0.8214\n",
      "Epoch 90/100\n",
      "60000/60000 [==============================] - 0s 6us/step - loss: 0.4498 - acc: 0.8382 - val_loss: 0.4721 - val_acc: 0.8310\n",
      "Epoch 91/100\n",
      "60000/60000 [==============================] - 0s 6us/step - loss: 0.4425 - acc: 0.8421 - val_loss: 0.4845 - val_acc: 0.8346\n",
      "Epoch 92/100\n",
      "60000/60000 [==============================] - 0s 7us/step - loss: 0.4524 - acc: 0.8405 - val_loss: 0.5170 - val_acc: 0.8143\n",
      "Epoch 93/100\n",
      "60000/60000 [==============================] - 0s 6us/step - loss: 0.4506 - acc: 0.8381 - val_loss: 0.5053 - val_acc: 0.8108\n",
      "Epoch 94/100\n",
      "60000/60000 [==============================] - 0s 6us/step - loss: 0.4434 - acc: 0.8414 - val_loss: 0.5047 - val_acc: 0.8184\n",
      "Epoch 95/100\n",
      "60000/60000 [==============================] - 0s 6us/step - loss: 0.4302 - acc: 0.8453 - val_loss: 0.4918 - val_acc: 0.8166\n",
      "Epoch 96/100\n",
      "60000/60000 [==============================] - 0s 6us/step - loss: 0.4401 - acc: 0.8404 - val_loss: 0.4922 - val_acc: 0.8233\n",
      "Epoch 97/100\n",
      "60000/60000 [==============================] - 0s 7us/step - loss: 0.4457 - acc: 0.8408 - val_loss: 0.4797 - val_acc: 0.8287\n",
      "Epoch 98/100\n",
      "60000/60000 [==============================] - 0s 6us/step - loss: 0.4491 - acc: 0.8378 - val_loss: 0.5027 - val_acc: 0.8136\n",
      "Epoch 99/100\n",
      "60000/60000 [==============================] - 0s 6us/step - loss: 0.4439 - acc: 0.8412 - val_loss: 0.4807 - val_acc: 0.8265\n",
      "Epoch 100/100\n",
      "60000/60000 [==============================] - 0s 6us/step - loss: 0.4463 - acc: 0.8404 - val_loss: 0.5007 - val_acc: 0.8236\n"
     ]
    }
   ],
   "source": [
    "# Обучаем модель! \n",
    "history = model.fit(x_train, y_train,\n",
    "              batch_size=batch_size,\n",
    "              epochs=epochs,\n",
    "              validation_data=(x_test, y_test),\n",
    "              shuffle=True)"
   ]
  },
  {
   "cell_type": "code",
   "execution_count": 11,
   "metadata": {},
   "outputs": [
    {
     "data": {
      "image/png": "[encoded data removed]",
      "text/plain": [
       "<Figure size 432x288 with 1 Axes>"
      ]
     },
     "metadata": {
      "needs_background": "light"
     },
     "output_type": "display_data"
    }
   ],
   "source": [
    "plt.plot(history.history['acc'], label='train')\n",
    "plt.plot(history.history['val_acc'], label='val')\n",
    "plt.xlabel('Epoch')\n",
    "plt.ylabel('Error')\n",
    "plt.legend()\n",
    "plt.show()"
   ]
  },
  {
   "cell_type": "markdown",
   "metadata": {},
   "source": [
    "## Что мы можем улучшить? \n",
    "- Отнормировать признаки\n",
    "- Заменить сигмоиды на ReLu\n",
    "- Задать правила инициации весов"
   ]
  },
  {
   "cell_type": "markdown",
   "metadata": {},
   "source": [
    "### Нормирование\n",
    "<img src='normalize.png'>"
   ]
  },
  {
   "cell_type": "code",
   "execution_count": 12,
   "metadata": {},
   "outputs": [],
   "source": [
    "x_train = (x_train/255)*2-1\n",
    "x_test = (x_test/255)*2-1"
   ]
  },
  {
   "cell_type": "markdown",
   "metadata": {},
   "source": [
    "### Функции активации\n",
    "<img src='activations.png'>"
   ]
  },
  {
   "cell_type": "markdown",
   "metadata": {},
   "source": [
    "### Инициациия весов\n",
    "__Случайно__  \n",
    "$ w = a * random$, но тогда если $a \\gg 1$, то на выходе $b\\gg1$ и если $a \\ll 1 $, то $b \\approx 0 $  \n",
    "\n",
    "__Xavier__  \n",
    "$a = \\frac{1}{\\sqrt{n}}$, где $n$ - кол-во нейронов на входе\n",
    "\n",
    "__He__  \n",
    "$a = \\frac{1}{\\sqrt{\\frac{n}{2}}}$, где $n$ - кол-во нейронов на входе"
   ]
  },
  {
   "cell_type": "code",
   "execution_count": 13,
   "metadata": {},
   "outputs": [],
   "source": [
    "from keras.initializers import he_normal"
   ]
  },
  {
   "cell_type": "code",
   "execution_count": 14,
   "metadata": {},
   "outputs": [],
   "source": [
    "def create_model(input_shape, optimizer):\n",
    "    model = Sequential()\n",
    "    model.add(Flatten(input_shape=input_shape))\n",
    "    model.add(Dense(200, kernel_initializer=he_normal()))\n",
    "    model.add(Activation('relu'))\n",
    "    model.add(Dense(100, kernel_initializer=he_normal()))\n",
    "    model.add(Activation('relu'))\n",
    "    model.add(Dense(10))\n",
    "    model.add(Activation('softmax'))\n",
    "    model.compile(optimizer=optimizer, loss='categorical_crossentropy', metrics=['accuracy'])\n",
    "    return model"
   ]
  },
  {
   "cell_type": "code",
   "execution_count": 15,
   "metadata": {},
   "outputs": [],
   "source": [
    "optimizer = SGD(lr=0.1)\n",
    "model = create_model(input_shape, optimizer)"
   ]
  },
  {
   "cell_type": "code",
   "execution_count": 16,
   "metadata": {
    "scrolled": true
   },
   "outputs": [
    {
     "name": "stdout",
     "output_type": "stream",
     "text": [
      "Train on 60000 samples, validate on 10000 samples\n",
      "Epoch 1/100\n",
      "60000/60000 [==============================] - 1s 11us/step - loss: 0.8873 - acc: 0.6821 - val_loss: 0.5932 - val_acc: 0.7864\n",
      "Epoch 2/100\n",
      "60000/60000 [==============================] - 1s 8us/step - loss: 0.5620 - acc: 0.7941 - val_loss: 0.5499 - val_acc: 0.7955\n",
      "Epoch 3/100\n",
      "60000/60000 [==============================] - 0s 8us/step - loss: 0.4884 - acc: 0.8225 - val_loss: 0.5221 - val_acc: 0.8069\n",
      "Epoch 4/100\n",
      "60000/60000 [==============================] - 1s 9us/step - loss: 0.4624 - acc: 0.8318 - val_loss: 0.5068 - val_acc: 0.8168\n",
      "Epoch 5/100\n",
      "60000/60000 [==============================] - 1s 9us/step - loss: 0.4346 - acc: 0.8418 - val_loss: 0.4630 - val_acc: 0.8322\n",
      "Epoch 6/100\n",
      "60000/60000 [==============================] - 1s 8us/step - loss: 0.4134 - acc: 0.8487 - val_loss: 0.4354 - val_acc: 0.8409\n",
      "Epoch 7/100\n",
      "60000/60000 [==============================] - 0s 8us/step - loss: 0.3944 - acc: 0.8566 - val_loss: 0.4152 - val_acc: 0.8487\n",
      "Epoch 8/100\n",
      "60000/60000 [==============================] - 1s 9us/step - loss: 0.3912 - acc: 0.8576 - val_loss: 0.4295 - val_acc: 0.8448\n",
      "Epoch 9/100\n",
      "60000/60000 [==============================] - 1s 9us/step - loss: 0.3813 - acc: 0.8616 - val_loss: 0.4358 - val_acc: 0.8392\n",
      "Epoch 10/100\n",
      "60000/60000 [==============================] - 1s 8us/step - loss: 0.3648 - acc: 0.8681 - val_loss: 0.4038 - val_acc: 0.8513\n",
      "Epoch 11/100\n",
      "60000/60000 [==============================] - 1s 8us/step - loss: 0.3545 - acc: 0.8724 - val_loss: 0.3939 - val_acc: 0.8589\n",
      "Epoch 12/100\n",
      "60000/60000 [==============================] - 1s 9us/step - loss: 0.3521 - acc: 0.8724 - val_loss: 0.3841 - val_acc: 0.8605\n",
      "Epoch 13/100\n",
      "60000/60000 [==============================] - 1s 8us/step - loss: 0.3471 - acc: 0.8738 - val_loss: 0.3832 - val_acc: 0.8604\n",
      "Epoch 14/100\n",
      "60000/60000 [==============================] - 1s 9us/step - loss: 0.3373 - acc: 0.8764 - val_loss: 0.3744 - val_acc: 0.8650\n",
      "Epoch 15/100\n",
      "60000/60000 [==============================] - 0s 8us/step - loss: 0.3289 - acc: 0.8789 - val_loss: 0.3810 - val_acc: 0.8649\n",
      "Epoch 16/100\n",
      "60000/60000 [==============================] - 1s 9us/step - loss: 0.3291 - acc: 0.8794 - val_loss: 0.4041 - val_acc: 0.8531\n",
      "Epoch 17/100\n",
      "60000/60000 [==============================] - 1s 8us/step - loss: 0.3233 - acc: 0.8818 - val_loss: 0.3750 - val_acc: 0.8649\n",
      "Epoch 18/100\n",
      "60000/60000 [==============================] - 1s 8us/step - loss: 0.3124 - acc: 0.8867 - val_loss: 0.3585 - val_acc: 0.8715\n",
      "Epoch 19/100\n",
      "60000/60000 [==============================] - 0s 8us/step - loss: 0.3155 - acc: 0.8846 - val_loss: 0.3813 - val_acc: 0.8624\n",
      "Epoch 20/100\n",
      "60000/60000 [==============================] - 1s 9us/step - loss: 0.3086 - acc: 0.8876 - val_loss: 0.3546 - val_acc: 0.8734\n",
      "Epoch 21/100\n",
      "60000/60000 [==============================] - 1s 9us/step - loss: 0.3105 - acc: 0.8872 - val_loss: 0.3622 - val_acc: 0.8678\n",
      "Epoch 22/100\n",
      "60000/60000 [==============================] - 1s 9us/step - loss: 0.3019 - acc: 0.8883 - val_loss: 0.3604 - val_acc: 0.8711\n",
      "Epoch 23/100\n",
      "60000/60000 [==============================] - 0s 8us/step - loss: 0.2942 - acc: 0.8921 - val_loss: 0.3695 - val_acc: 0.8655\n",
      "Epoch 24/100\n",
      "60000/60000 [==============================] - 1s 9us/step - loss: 0.2927 - acc: 0.8925 - val_loss: 0.3574 - val_acc: 0.8724\n",
      "Epoch 25/100\n",
      "60000/60000 [==============================] - 1s 9us/step - loss: 0.2867 - acc: 0.8959 - val_loss: 0.3752 - val_acc: 0.8643\n",
      "Epoch 26/100\n",
      "60000/60000 [==============================] - 1s 8us/step - loss: 0.2904 - acc: 0.8930 - val_loss: 0.3503 - val_acc: 0.8714\n",
      "Epoch 27/100\n",
      "60000/60000 [==============================] - 1s 8us/step - loss: 0.2860 - acc: 0.8950 - val_loss: 0.3538 - val_acc: 0.8719\n",
      "Epoch 28/100\n",
      "60000/60000 [==============================] - 1s 9us/step - loss: 0.2779 - acc: 0.8983 - val_loss: 0.3409 - val_acc: 0.8770\n",
      "Epoch 29/100\n",
      "60000/60000 [==============================] - 0s 8us/step - loss: 0.2742 - acc: 0.9002 - val_loss: 0.3405 - val_acc: 0.8783\n",
      "Epoch 30/100\n",
      "60000/60000 [==============================] - 1s 9us/step - loss: 0.2760 - acc: 0.8986 - val_loss: 0.3778 - val_acc: 0.8614\n",
      "Epoch 31/100\n",
      "60000/60000 [==============================] - 1s 8us/step - loss: 0.2740 - acc: 0.9003 - val_loss: 0.3389 - val_acc: 0.8777\n",
      "Epoch 32/100\n",
      "60000/60000 [==============================] - 1s 10us/step - loss: 0.2685 - acc: 0.9016 - val_loss: 0.3478 - val_acc: 0.8758\n",
      "Epoch 33/100\n",
      "60000/60000 [==============================] - 0s 8us/step - loss: 0.2633 - acc: 0.9034 - val_loss: 0.3393 - val_acc: 0.8775\n",
      "Epoch 34/100\n",
      "60000/60000 [==============================] - 1s 9us/step - loss: 0.2667 - acc: 0.9025 - val_loss: 0.3598 - val_acc: 0.8718\n",
      "Epoch 35/100\n",
      "60000/60000 [==============================] - 0s 8us/step - loss: 0.2604 - acc: 0.9058 - val_loss: 0.3437 - val_acc: 0.8746\n",
      "Epoch 36/100\n",
      "60000/60000 [==============================] - 1s 10us/step - loss: 0.2568 - acc: 0.9051 - val_loss: 0.3395 - val_acc: 0.8781\n",
      "Epoch 37/100\n",
      "60000/60000 [==============================] - 0s 8us/step - loss: 0.2490 - acc: 0.9088 - val_loss: 0.3300 - val_acc: 0.8803\n",
      "Epoch 38/100\n",
      "60000/60000 [==============================] - 1s 9us/step - loss: 0.2499 - acc: 0.9091 - val_loss: 0.3393 - val_acc: 0.8800\n",
      "Epoch 39/100\n",
      "60000/60000 [==============================] - 0s 8us/step - loss: 0.2503 - acc: 0.9083 - val_loss: 0.3501 - val_acc: 0.8745\n",
      "Epoch 40/100\n",
      "60000/60000 [==============================] - 1s 9us/step - loss: 0.2494 - acc: 0.9083 - val_loss: 0.3684 - val_acc: 0.8680\n",
      "Epoch 41/100\n",
      "60000/60000 [==============================] - 0s 8us/step - loss: 0.2456 - acc: 0.9099 - val_loss: 0.3353 - val_acc: 0.8794\n",
      "Epoch 42/100\n",
      "60000/60000 [==============================] - 1s 9us/step - loss: 0.2433 - acc: 0.9105 - val_loss: 0.3512 - val_acc: 0.8755\n",
      "Epoch 43/100\n",
      "60000/60000 [==============================] - 0s 8us/step - loss: 0.2417 - acc: 0.9106 - val_loss: 0.3265 - val_acc: 0.8835\n",
      "Epoch 44/100\n",
      "60000/60000 [==============================] - 1s 9us/step - loss: 0.2376 - acc: 0.9125 - val_loss: 0.3588 - val_acc: 0.8711\n",
      "Epoch 45/100\n",
      "60000/60000 [==============================] - 0s 8us/step - loss: 0.2439 - acc: 0.9104 - val_loss: 0.3407 - val_acc: 0.8766\n",
      "Epoch 46/100\n",
      "60000/60000 [==============================] - 1s 8us/step - loss: 0.2353 - acc: 0.9145 - val_loss: 0.3264 - val_acc: 0.8837\n",
      "Epoch 47/100\n",
      "60000/60000 [==============================] - 0s 8us/step - loss: 0.2262 - acc: 0.9176 - val_loss: 0.3360 - val_acc: 0.8810\n",
      "Epoch 48/100\n",
      "60000/60000 [==============================] - 1s 9us/step - loss: 0.2337 - acc: 0.9147 - val_loss: 0.3422 - val_acc: 0.8773\n",
      "Epoch 49/100\n",
      "60000/60000 [==============================] - 0s 8us/step - loss: 0.2276 - acc: 0.9165 - val_loss: 0.3425 - val_acc: 0.8762\n",
      "Epoch 50/100\n",
      "60000/60000 [==============================] - 0s 8us/step - loss: 0.2293 - acc: 0.9170 - val_loss: 0.3230 - val_acc: 0.8835\n",
      "Epoch 51/100\n",
      "60000/60000 [==============================] - 0s 8us/step - loss: 0.2234 - acc: 0.9190 - val_loss: 0.3401 - val_acc: 0.8770\n",
      "Epoch 52/100\n",
      "60000/60000 [==============================] - 1s 9us/step - loss: 0.2235 - acc: 0.9182 - val_loss: 0.3560 - val_acc: 0.8738\n",
      "Epoch 53/100\n",
      "60000/60000 [==============================] - 0s 8us/step - loss: 0.2224 - acc: 0.9189 - val_loss: 0.3377 - val_acc: 0.8788\n",
      "Epoch 54/100\n",
      "60000/60000 [==============================] - 0s 8us/step - loss: 0.2198 - acc: 0.9200 - val_loss: 0.3320 - val_acc: 0.8799\n",
      "Epoch 55/100\n",
      "60000/60000 [==============================] - 1s 9us/step - loss: 0.2140 - acc: 0.9212 - val_loss: 0.3227 - val_acc: 0.8827\n",
      "Epoch 56/100\n",
      "60000/60000 [==============================] - 1s 10us/step - loss: 0.2151 - acc: 0.9212 - val_loss: 0.3233 - val_acc: 0.8809\n",
      "Epoch 57/100\n",
      "60000/60000 [==============================] - 0s 8us/step - loss: 0.2371 - acc: 0.9154 - val_loss: 0.3462 - val_acc: 0.8723\n",
      "Epoch 58/100\n",
      "60000/60000 [==============================] - 0s 8us/step - loss: 0.2162 - acc: 0.9206 - val_loss: 0.3301 - val_acc: 0.8827\n",
      "Epoch 59/100\n",
      "60000/60000 [==============================] - 0s 8us/step - loss: 0.2049 - acc: 0.9258 - val_loss: 0.3324 - val_acc: 0.8813\n",
      "Epoch 60/100\n"
     ]
    },
    {
     "name": "stdout",
     "output_type": "stream",
     "text": [
      "60000/60000 [==============================] - 1s 9us/step - loss: 0.2062 - acc: 0.9253 - val_loss: 0.3246 - val_acc: 0.8847\n",
      "Epoch 61/100\n",
      "60000/60000 [==============================] - 1s 8us/step - loss: 0.2062 - acc: 0.9248 - val_loss: 0.3169 - val_acc: 0.8871\n",
      "Epoch 62/100\n",
      "60000/60000 [==============================] - 1s 8us/step - loss: 0.2019 - acc: 0.9276 - val_loss: 0.3177 - val_acc: 0.8860\n",
      "Epoch 63/100\n",
      "60000/60000 [==============================] - 0s 8us/step - loss: 0.2025 - acc: 0.9266 - val_loss: 0.3248 - val_acc: 0.8848\n",
      "Epoch 64/100\n",
      "60000/60000 [==============================] - 1s 9us/step - loss: 0.2038 - acc: 0.9251 - val_loss: 0.3259 - val_acc: 0.8843\n",
      "Epoch 65/100\n",
      "60000/60000 [==============================] - 1s 8us/step - loss: 0.1981 - acc: 0.9288 - val_loss: 0.3653 - val_acc: 0.8673\n",
      "Epoch 66/100\n",
      "60000/60000 [==============================] - 1s 9us/step - loss: 0.1991 - acc: 0.9273 - val_loss: 0.3309 - val_acc: 0.8852\n",
      "Epoch 67/100\n",
      "60000/60000 [==============================] - 0s 8us/step - loss: 0.2006 - acc: 0.9261 - val_loss: 0.3139 - val_acc: 0.8887\n",
      "Epoch 68/100\n",
      "60000/60000 [==============================] - 1s 9us/step - loss: 0.2158 - acc: 0.9234 - val_loss: 0.3597 - val_acc: 0.8699\n",
      "Epoch 69/100\n",
      "60000/60000 [==============================] - 0s 8us/step - loss: 0.2003 - acc: 0.9282 - val_loss: 0.3297 - val_acc: 0.8857\n",
      "Epoch 70/100\n",
      "60000/60000 [==============================] - 1s 9us/step - loss: 0.1904 - acc: 0.9315 - val_loss: 0.3225 - val_acc: 0.8828\n",
      "Epoch 71/100\n",
      "60000/60000 [==============================] - 0s 8us/step - loss: 0.1944 - acc: 0.9295 - val_loss: 0.3202 - val_acc: 0.8871\n",
      "Epoch 72/100\n",
      "60000/60000 [==============================] - 1s 9us/step - loss: 0.1912 - acc: 0.9289 - val_loss: 0.3223 - val_acc: 0.8874\n",
      "Epoch 73/100\n",
      "60000/60000 [==============================] - 0s 8us/step - loss: 0.1854 - acc: 0.9336 - val_loss: 0.3143 - val_acc: 0.8895\n",
      "Epoch 74/100\n",
      "60000/60000 [==============================] - 1s 9us/step - loss: 0.1817 - acc: 0.9346 - val_loss: 0.3272 - val_acc: 0.8887\n",
      "Epoch 75/100\n",
      "60000/60000 [==============================] - 0s 8us/step - loss: 0.1890 - acc: 0.9309 - val_loss: 0.3467 - val_acc: 0.8747\n",
      "Epoch 76/100\n",
      "60000/60000 [==============================] - 1s 9us/step - loss: 0.1843 - acc: 0.9338 - val_loss: 0.3221 - val_acc: 0.8877\n",
      "Epoch 77/100\n",
      "60000/60000 [==============================] - 1s 8us/step - loss: 0.1795 - acc: 0.9360 - val_loss: 0.3514 - val_acc: 0.8714\n",
      "Epoch 78/100\n",
      "60000/60000 [==============================] - 1s 8us/step - loss: 0.1836 - acc: 0.9327 - val_loss: 0.3488 - val_acc: 0.8749\n",
      "Epoch 79/100\n",
      "60000/60000 [==============================] - 1s 8us/step - loss: 0.1770 - acc: 0.9377 - val_loss: 0.3213 - val_acc: 0.8856\n",
      "Epoch 80/100\n",
      "60000/60000 [==============================] - 1s 10us/step - loss: 0.1791 - acc: 0.9346 - val_loss: 0.3475 - val_acc: 0.8761\n",
      "Epoch 81/100\n",
      "60000/60000 [==============================] - 1s 8us/step - loss: 0.1749 - acc: 0.9365 - val_loss: 0.3387 - val_acc: 0.8812\n",
      "Epoch 82/100\n",
      "60000/60000 [==============================] - 1s 8us/step - loss: 0.1765 - acc: 0.9362 - val_loss: 0.3724 - val_acc: 0.8673\n",
      "Epoch 83/100\n",
      "60000/60000 [==============================] - 0s 8us/step - loss: 0.1754 - acc: 0.9369 - val_loss: 0.3459 - val_acc: 0.8769\n",
      "Epoch 84/100\n",
      "60000/60000 [==============================] - 1s 10us/step - loss: 0.1687 - acc: 0.9393 - val_loss: 0.3249 - val_acc: 0.8861\n",
      "Epoch 85/100\n",
      "60000/60000 [==============================] - 1s 9us/step - loss: 0.1731 - acc: 0.9375 - val_loss: 0.3474 - val_acc: 0.8789\n",
      "Epoch 86/100\n",
      "60000/60000 [==============================] - 1s 9us/step - loss: 0.1724 - acc: 0.9377 - val_loss: 0.3556 - val_acc: 0.8786\n",
      "Epoch 87/100\n",
      "60000/60000 [==============================] - 1s 9us/step - loss: 0.1689 - acc: 0.9392 - val_loss: 0.3283 - val_acc: 0.8879\n",
      "Epoch 88/100\n",
      "60000/60000 [==============================] - 1s 9us/step - loss: 0.1614 - acc: 0.9428 - val_loss: 0.3657 - val_acc: 0.8739\n",
      "Epoch 89/100\n",
      "60000/60000 [==============================] - 1s 8us/step - loss: 0.1682 - acc: 0.9387 - val_loss: 0.3272 - val_acc: 0.8871\n",
      "Epoch 90/100\n",
      "60000/60000 [==============================] - 1s 8us/step - loss: 0.1618 - acc: 0.9420 - val_loss: 0.3329 - val_acc: 0.8838\n",
      "Epoch 91/100\n",
      "60000/60000 [==============================] - 1s 9us/step - loss: 0.1652 - acc: 0.9405 - val_loss: 0.3331 - val_acc: 0.8839\n",
      "Epoch 92/100\n",
      "60000/60000 [==============================] - 1s 9us/step - loss: 0.2021 - acc: 0.9296 - val_loss: 0.3456 - val_acc: 0.8839\n",
      "Epoch 93/100\n",
      "60000/60000 [==============================] - 1s 8us/step - loss: 0.1643 - acc: 0.9411 - val_loss: 0.3363 - val_acc: 0.8831\n",
      "Epoch 94/100\n",
      "60000/60000 [==============================] - 1s 8us/step - loss: 0.1608 - acc: 0.9428 - val_loss: 0.3311 - val_acc: 0.8891\n",
      "Epoch 95/100\n",
      "60000/60000 [==============================] - 1s 9us/step - loss: 0.1584 - acc: 0.9440 - val_loss: 0.3478 - val_acc: 0.8822\n",
      "Epoch 96/100\n",
      "60000/60000 [==============================] - 1s 9us/step - loss: 0.1545 - acc: 0.9451 - val_loss: 0.3625 - val_acc: 0.8745\n",
      "Epoch 97/100\n",
      "60000/60000 [==============================] - 0s 8us/step - loss: 0.1599 - acc: 0.9426 - val_loss: 0.3248 - val_acc: 0.8903\n",
      "Epoch 98/100\n",
      "60000/60000 [==============================] - 0s 8us/step - loss: 0.1540 - acc: 0.9448 - val_loss: 0.3356 - val_acc: 0.8869\n",
      "Epoch 99/100\n",
      "60000/60000 [==============================] - 1s 9us/step - loss: 0.1486 - acc: 0.9476 - val_loss: 0.3298 - val_acc: 0.8860\n",
      "Epoch 100/100\n",
      "60000/60000 [==============================] - 1s 9us/step - loss: 0.1544 - acc: 0.9443 - val_loss: 0.3419 - val_acc: 0.8855\n"
     ]
    }
   ],
   "source": [
    "history = model.fit(x_train, y_train,\n",
    "              batch_size=batch_size,\n",
    "              epochs=epochs,\n",
    "              validation_data=(x_test, y_test),\n",
    "              shuffle=True)"
   ]
  },
  {
   "cell_type": "code",
   "execution_count": 17,
   "metadata": {},
   "outputs": [
    {
     "data": {
      "image/png": "[encoded data removed]",
      "text/plain": [
       "<Figure size 432x288 with 1 Axes>"
      ]
     },
     "metadata": {
      "needs_background": "light"
     },
     "output_type": "display_data"
    }
   ],
   "source": [
    "def viz_history(history):\n",
    "    plt.plot(history.history['acc'], label='train')\n",
    "    plt.plot(history.history['val_acc'], label='val')\n",
    "    plt.xlabel('Epoch')\n",
    "    plt.ylabel('Error')\n",
    "    plt.legend()\n",
    "    plt.show()\n",
    "\n",
    "viz_history(history)"
   ]
  },
  {
   "cell_type": "markdown",
   "metadata": {},
   "source": [
    "## Влияние скорости обучения\n",
    "Посмотрим, как влияет параметр `learning_rate` на качество нашей модели на обучающей выборке"
   ]
  },
  {
   "cell_type": "code",
   "execution_count": 27,
   "metadata": {
    "scrolled": true
   },
   "outputs": [
    {
     "name": "stderr",
     "output_type": "stream",
     "text": [
      "100%|██████████| 4/4 [03:14<00:00, 48.53s/it]\n"
     ]
    },
    {
     "data": {
      "image/png": "[encoded data removed]",
      "text/plain": [
       "<Figure size 432x288 with 1 Axes>"
      ]
     },
     "metadata": {
      "needs_background": "light"
     },
     "output_type": "display_data"
    }
   ],
   "source": [
    "for i in tqdm([0.001, 0.01, 0.1, 1]):\n",
    "    optimizer = SGD(lr=i)\n",
    "    model = create_model(input_shape, optimizer)\n",
    "    history = model.fit(x_train, y_train, verbose=0,\n",
    "              batch_size=batch_size,\n",
    "              epochs=epochs,\n",
    "              validation_data=(x_test, y_test),\n",
    "              shuffle=True)\n",
    "    plt.plot(history.history['val_acc'], label='learning rate = {}'.format(i))\n",
    "    \n",
    "plt.xlabel('Epoch')\n",
    "plt.ylabel('Error')\n",
    "plt.legend()\n",
    "plt.show()"
   ]
  },
  {
   "cell_type": "markdown",
   "metadata": {},
   "source": [
    "## Влияние метода оптимизации градиентного спуска"
   ]
  },
  {
   "cell_type": "markdown",
   "metadata": {},
   "source": [
    "<img src='optimizers7.gif'>"
   ]
  },
  {
   "cell_type": "markdown",
   "metadata": {},
   "source": [
    "#### Momentum\n",
    "Вместо того, чтобы использовать только градиент текущего шага, мы будем накапливать импульс градиента прошлых шагов для определения направления движения. \n",
    "В связи со стохастической природой, обновления градиента происходят \"зигзагообразно\", с помощью момента мы усиливаем движение вдоль основного направления. На практике коэффициент у момента инициализируется на уровне 0,5 и постепенно увеличивается до 0,9 в течение нескольких эпох. \n",
    "  \n",
    "#### RMSProp (Root Mean Square Propogation)   \n",
    "\n",
    "\n",
    "#### Adam (Adaptive moment estimation)\n",
    "Cочетает в себе и идею накопления движения и идею более слабого обновления весов для типичных признаков"
   ]
  },
  {
   "cell_type": "code",
   "execution_count": 19,
   "metadata": {},
   "outputs": [
    {
     "name": "stderr",
     "output_type": "stream",
     "text": [
      "100%|██████████| 3/3 [02:33<00:00, 51.05s/it]\n"
     ]
    },
    {
     "data": {
      "image/png": "[encoded data removed]",
      "text/plain": [
       "<Figure size 432x288 with 1 Axes>"
      ]
     },
     "metadata": {
      "needs_background": "light"
     },
     "output_type": "display_data"
    }
   ],
   "source": [
    "names = ['SGD with Momentum', 'Adam', 'RMSprop']\n",
    "optimizers = {'SGD with Momentum': SGD(nesterov=True), \n",
    "              'Adam': Adam(),\n",
    "              'RMSprop': RMSprop()\n",
    "             }\n",
    "\n",
    "for opt in tqdm(names):\n",
    "    model = create_model(input_shape, optimizers[opt])\n",
    "    history = model.fit(x_train, y_train, verbose=0,\n",
    "              batch_size=batch_size,\n",
    "              epochs=epochs,\n",
    "              validation_data=(x_test, y_test),\n",
    "              shuffle=True)\n",
    "    plt.plot(history.history['val_acc'], label='optimizers = {}'.format(opt))\n",
    "    \n",
    "plt.xlabel('Epoch')\n",
    "plt.ylabel('Error')\n",
    "plt.legend()\n",
    "plt.show()"
   ]
  },
  {
   "cell_type": "markdown",
   "metadata": {},
   "source": [
    "## Применим, все полученные знания"
   ]
  },
  {
   "cell_type": "code",
   "execution_count": 20,
   "metadata": {
    "scrolled": true
   },
   "outputs": [
    {
     "name": "stdout",
     "output_type": "stream",
     "text": [
      "Train on 60000 samples, validate on 10000 samples\n",
      "Epoch 1/100\n",
      "60000/60000 [==============================] - 1s 14us/step - loss: 0.7656 - acc: 0.7332 - val_loss: 0.5074 - val_acc: 0.8160\n",
      "Epoch 2/100\n",
      "60000/60000 [==============================] - 1s 9us/step - loss: 0.4450 - acc: 0.8397 - val_loss: 0.4484 - val_acc: 0.8388\n",
      "Epoch 3/100\n",
      "60000/60000 [==============================] - 1s 9us/step - loss: 0.3940 - acc: 0.8581 - val_loss: 0.4059 - val_acc: 0.8546\n",
      "Epoch 4/100\n",
      "60000/60000 [==============================] - 1s 9us/step - loss: 0.3575 - acc: 0.8716 - val_loss: 0.3937 - val_acc: 0.8575\n",
      "Epoch 5/100\n",
      "60000/60000 [==============================] - 1s 9us/step - loss: 0.3372 - acc: 0.8789 - val_loss: 0.3778 - val_acc: 0.8664\n",
      "Epoch 6/100\n",
      "60000/60000 [==============================] - 1s 8us/step - loss: 0.3170 - acc: 0.8852 - val_loss: 0.3607 - val_acc: 0.8713\n",
      "Epoch 7/100\n",
      "60000/60000 [==============================] - 0s 8us/step - loss: 0.3032 - acc: 0.8904 - val_loss: 0.3681 - val_acc: 0.8681\n",
      "Epoch 8/100\n",
      "60000/60000 [==============================] - 1s 9us/step - loss: 0.2866 - acc: 0.8955 - val_loss: 0.3496 - val_acc: 0.8759\n",
      "Epoch 9/100\n",
      "60000/60000 [==============================] - 1s 9us/step - loss: 0.2783 - acc: 0.8994 - val_loss: 0.3591 - val_acc: 0.8719\n",
      "Epoch 10/100\n",
      "60000/60000 [==============================] - 1s 8us/step - loss: 0.2677 - acc: 0.9035 - val_loss: 0.3459 - val_acc: 0.8772\n",
      "Epoch 11/100\n",
      "60000/60000 [==============================] - 0s 8us/step - loss: 0.2600 - acc: 0.9046 - val_loss: 0.3375 - val_acc: 0.8805\n",
      "Epoch 12/100\n",
      "60000/60000 [==============================] - 1s 9us/step - loss: 0.2509 - acc: 0.9093 - val_loss: 0.3347 - val_acc: 0.8835\n",
      "Epoch 13/100\n",
      "60000/60000 [==============================] - 1s 9us/step - loss: 0.2416 - acc: 0.9101 - val_loss: 0.3297 - val_acc: 0.8833\n",
      "Epoch 14/100\n",
      "60000/60000 [==============================] - 1s 9us/step - loss: 0.2316 - acc: 0.9155 - val_loss: 0.3264 - val_acc: 0.8852\n",
      "Epoch 15/100\n",
      "60000/60000 [==============================] - 0s 8us/step - loss: 0.2262 - acc: 0.9163 - val_loss: 0.3279 - val_acc: 0.8834\n",
      "Epoch 16/100\n",
      "60000/60000 [==============================] - 1s 10us/step - loss: 0.2178 - acc: 0.9201 - val_loss: 0.3298 - val_acc: 0.8823\n",
      "Epoch 17/100\n",
      "60000/60000 [==============================] - 1s 9us/step - loss: 0.2082 - acc: 0.9244 - val_loss: 0.3306 - val_acc: 0.8858\n",
      "Epoch 18/100\n",
      "60000/60000 [==============================] - 1s 8us/step - loss: 0.2113 - acc: 0.9214 - val_loss: 0.3368 - val_acc: 0.8812\n",
      "Epoch 19/100\n",
      "60000/60000 [==============================] - 1s 8us/step - loss: 0.2019 - acc: 0.9265 - val_loss: 0.3239 - val_acc: 0.8867\n",
      "Epoch 20/100\n",
      "60000/60000 [==============================] - 1s 10us/step - loss: 0.1955 - acc: 0.9285 - val_loss: 0.3337 - val_acc: 0.8826\n",
      "Epoch 21/100\n",
      "60000/60000 [==============================] - 0s 8us/step - loss: 0.1888 - acc: 0.9308 - val_loss: 0.3354 - val_acc: 0.8848\n",
      "Epoch 22/100\n",
      "60000/60000 [==============================] - 1s 9us/step - loss: 0.1808 - acc: 0.9339 - val_loss: 0.3302 - val_acc: 0.8855\n",
      "Epoch 23/100\n",
      "60000/60000 [==============================] - 1s 9us/step - loss: 0.1734 - acc: 0.9379 - val_loss: 0.3245 - val_acc: 0.8868\n",
      "Epoch 24/100\n",
      "60000/60000 [==============================] - 1s 9us/step - loss: 0.1713 - acc: 0.9380 - val_loss: 0.3397 - val_acc: 0.8829\n",
      "Epoch 25/100\n",
      "60000/60000 [==============================] - 1s 9us/step - loss: 0.1639 - acc: 0.9410 - val_loss: 0.3438 - val_acc: 0.8867\n",
      "Epoch 26/100\n",
      "60000/60000 [==============================] - 1s 8us/step - loss: 0.1661 - acc: 0.9392 - val_loss: 0.3396 - val_acc: 0.8844\n",
      "Epoch 27/100\n",
      "60000/60000 [==============================] - 1s 8us/step - loss: 0.1614 - acc: 0.9403 - val_loss: 0.3351 - val_acc: 0.8862\n",
      "Epoch 28/100\n",
      "60000/60000 [==============================] - 1s 9us/step - loss: 0.1539 - acc: 0.9443 - val_loss: 0.3335 - val_acc: 0.8901\n",
      "Epoch 29/100\n",
      "60000/60000 [==============================] - 1s 9us/step - loss: 0.1441 - acc: 0.9485 - val_loss: 0.3433 - val_acc: 0.8840\n",
      "Epoch 30/100\n",
      "60000/60000 [==============================] - 1s 8us/step - loss: 0.1422 - acc: 0.9487 - val_loss: 0.3445 - val_acc: 0.8877\n",
      "Epoch 31/100\n",
      "60000/60000 [==============================] - 1s 9us/step - loss: 0.1371 - acc: 0.9514 - val_loss: 0.3506 - val_acc: 0.8886\n",
      "Epoch 32/100\n",
      "60000/60000 [==============================] - 1s 9us/step - loss: 0.1318 - acc: 0.9530 - val_loss: 0.3486 - val_acc: 0.8883\n",
      "Epoch 33/100\n",
      "60000/60000 [==============================] - 1s 9us/step - loss: 0.1297 - acc: 0.9536 - val_loss: 0.3519 - val_acc: 0.8862\n",
      "Epoch 34/100\n",
      "60000/60000 [==============================] - 1s 8us/step - loss: 0.1241 - acc: 0.9559 - val_loss: 0.3544 - val_acc: 0.8916\n",
      "Epoch 35/100\n",
      "60000/60000 [==============================] - 1s 9us/step - loss: 0.1197 - acc: 0.9581 - val_loss: 0.3723 - val_acc: 0.8824\n",
      "Epoch 36/100\n",
      "60000/60000 [==============================] - 1s 9us/step - loss: 0.1183 - acc: 0.9579 - val_loss: 0.3590 - val_acc: 0.8909\n",
      "Epoch 37/100\n",
      "60000/60000 [==============================] - 1s 9us/step - loss: 0.1101 - acc: 0.9617 - val_loss: 0.3606 - val_acc: 0.8869\n",
      "Epoch 38/100\n",
      "60000/60000 [==============================] - 1s 9us/step - loss: 0.1155 - acc: 0.9591 - val_loss: 0.3693 - val_acc: 0.8894\n",
      "Epoch 39/100\n",
      "60000/60000 [==============================] - 1s 9us/step - loss: 0.1050 - acc: 0.9640 - val_loss: 0.3609 - val_acc: 0.8922\n",
      "Epoch 40/100\n",
      "60000/60000 [==============================] - 1s 10us/step - loss: 0.1051 - acc: 0.9628 - val_loss: 0.3714 - val_acc: 0.8910\n",
      "Epoch 41/100\n",
      "60000/60000 [==============================] - 1s 9us/step - loss: 0.0978 - acc: 0.9665 - val_loss: 0.3782 - val_acc: 0.8900\n",
      "Epoch 42/100\n",
      "60000/60000 [==============================] - 1s 9us/step - loss: 0.0945 - acc: 0.9672 - val_loss: 0.3803 - val_acc: 0.8905\n",
      "Epoch 43/100\n",
      "60000/60000 [==============================] - 1s 9us/step - loss: 0.0983 - acc: 0.9659 - val_loss: 0.3936 - val_acc: 0.8875\n",
      "Epoch 44/100\n",
      "60000/60000 [==============================] - 1s 8us/step - loss: 0.0907 - acc: 0.9679 - val_loss: 0.3942 - val_acc: 0.8875\n",
      "Epoch 45/100\n",
      "60000/60000 [==============================] - 1s 8us/step - loss: 0.0895 - acc: 0.9688 - val_loss: 0.3925 - val_acc: 0.8897\n",
      "Epoch 46/100\n",
      "60000/60000 [==============================] - 1s 8us/step - loss: 0.0883 - acc: 0.9697 - val_loss: 0.3913 - val_acc: 0.8907\n",
      "Epoch 47/100\n",
      "60000/60000 [==============================] - 1s 9us/step - loss: 0.0790 - acc: 0.9734 - val_loss: 0.3940 - val_acc: 0.8901\n",
      "Epoch 48/100\n",
      "60000/60000 [==============================] - 0s 8us/step - loss: 0.0811 - acc: 0.9725 - val_loss: 0.4055 - val_acc: 0.8903\n",
      "Epoch 49/100\n",
      "60000/60000 [==============================] - 1s 9us/step - loss: 0.0730 - acc: 0.9758 - val_loss: 0.4171 - val_acc: 0.8867\n",
      "Epoch 50/100\n",
      "60000/60000 [==============================] - 1s 8us/step - loss: 0.0764 - acc: 0.9741 - val_loss: 0.4139 - val_acc: 0.8904\n",
      "Epoch 51/100\n",
      "60000/60000 [==============================] - 1s 10us/step - loss: 0.0704 - acc: 0.9765 - val_loss: 0.4123 - val_acc: 0.8909\n",
      "Epoch 52/100\n",
      "60000/60000 [==============================] - 1s 8us/step - loss: 0.0680 - acc: 0.9774 - val_loss: 0.4221 - val_acc: 0.8893\n",
      "Epoch 53/100\n",
      "60000/60000 [==============================] - 1s 9us/step - loss: 0.0659 - acc: 0.9779 - val_loss: 0.4172 - val_acc: 0.8940\n",
      "Epoch 54/100\n",
      "60000/60000 [==============================] - 1s 8us/step - loss: 0.0668 - acc: 0.9777 - val_loss: 0.4285 - val_acc: 0.8915\n",
      "Epoch 55/100\n",
      "60000/60000 [==============================] - 1s 9us/step - loss: 0.0672 - acc: 0.9778 - val_loss: 0.4322 - val_acc: 0.8892\n",
      "Epoch 56/100\n",
      "60000/60000 [==============================] - 1s 8us/step - loss: 0.0688 - acc: 0.9758 - val_loss: 0.4430 - val_acc: 0.8926\n",
      "Epoch 57/100\n",
      "60000/60000 [==============================] - 0s 8us/step - loss: 0.0570 - acc: 0.9815 - val_loss: 0.4344 - val_acc: 0.8913\n",
      "Epoch 58/100\n",
      "60000/60000 [==============================] - 0s 8us/step - loss: 0.0620 - acc: 0.9786 - val_loss: 0.4507 - val_acc: 0.8871\n",
      "Epoch 59/100\n",
      "60000/60000 [==============================] - 1s 10us/step - loss: 0.0545 - acc: 0.9826 - val_loss: 0.4496 - val_acc: 0.8923\n",
      "Epoch 60/100\n"
     ]
    },
    {
     "name": "stdout",
     "output_type": "stream",
     "text": [
      "60000/60000 [==============================] - 1s 9us/step - loss: 0.0514 - acc: 0.9831 - val_loss: 0.4656 - val_acc: 0.8903\n",
      "Epoch 61/100\n",
      "60000/60000 [==============================] - 1s 9us/step - loss: 0.0491 - acc: 0.9843 - val_loss: 0.4619 - val_acc: 0.8885\n",
      "Epoch 62/100\n",
      "60000/60000 [==============================] - 0s 8us/step - loss: 0.0519 - acc: 0.9831 - val_loss: 0.4708 - val_acc: 0.8890\n",
      "Epoch 63/100\n",
      "60000/60000 [==============================] - 1s 10us/step - loss: 0.0495 - acc: 0.9833 - val_loss: 0.4882 - val_acc: 0.8888\n",
      "Epoch 64/100\n",
      "60000/60000 [==============================] - 1s 8us/step - loss: 0.0475 - acc: 0.9848 - val_loss: 0.4776 - val_acc: 0.8920\n",
      "Epoch 65/100\n",
      "60000/60000 [==============================] - 1s 8us/step - loss: 0.0474 - acc: 0.9845 - val_loss: 0.4817 - val_acc: 0.8918\n",
      "Epoch 66/100\n",
      "60000/60000 [==============================] - 1s 10us/step - loss: 0.0423 - acc: 0.9872 - val_loss: 0.4762 - val_acc: 0.8920\n",
      "Epoch 67/100\n",
      "60000/60000 [==============================] - 1s 9us/step - loss: 0.0468 - acc: 0.9846 - val_loss: 0.4997 - val_acc: 0.8874\n",
      "Epoch 68/100\n",
      "60000/60000 [==============================] - 1s 9us/step - loss: 0.0488 - acc: 0.9834 - val_loss: 0.5017 - val_acc: 0.8887\n",
      "Epoch 69/100\n",
      "60000/60000 [==============================] - 0s 8us/step - loss: 0.0440 - acc: 0.9860 - val_loss: 0.5178 - val_acc: 0.8863\n",
      "Epoch 70/100\n",
      "60000/60000 [==============================] - 1s 9us/step - loss: 0.0372 - acc: 0.9883 - val_loss: 0.4953 - val_acc: 0.8915\n",
      "Epoch 71/100\n",
      "60000/60000 [==============================] - 1s 9us/step - loss: 0.0335 - acc: 0.9908 - val_loss: 0.5047 - val_acc: 0.8913\n",
      "Epoch 72/100\n",
      "60000/60000 [==============================] - 1s 9us/step - loss: 0.0345 - acc: 0.9896 - val_loss: 0.5419 - val_acc: 0.8897\n",
      "Epoch 73/100\n",
      "60000/60000 [==============================] - 1s 8us/step - loss: 0.0351 - acc: 0.9893 - val_loss: 0.5272 - val_acc: 0.8936\n",
      "Epoch 74/100\n",
      "60000/60000 [==============================] - 1s 9us/step - loss: 0.0351 - acc: 0.9889 - val_loss: 0.5287 - val_acc: 0.8907\n",
      "Epoch 75/100\n",
      "60000/60000 [==============================] - 1s 8us/step - loss: 0.0340 - acc: 0.9896 - val_loss: 0.5272 - val_acc: 0.8898\n",
      "Epoch 76/100\n",
      "60000/60000 [==============================] - 1s 8us/step - loss: 0.0306 - acc: 0.9907 - val_loss: 0.5335 - val_acc: 0.8886\n",
      "Epoch 77/100\n",
      "60000/60000 [==============================] - 0s 8us/step - loss: 0.0343 - acc: 0.9893 - val_loss: 0.5510 - val_acc: 0.8889\n",
      "Epoch 78/100\n",
      "60000/60000 [==============================] - 1s 9us/step - loss: 0.0284 - acc: 0.9919 - val_loss: 0.5376 - val_acc: 0.8921\n",
      "Epoch 79/100\n",
      "60000/60000 [==============================] - 1s 9us/step - loss: 0.0330 - acc: 0.9893 - val_loss: 0.5437 - val_acc: 0.8898\n",
      "Epoch 80/100\n",
      "60000/60000 [==============================] - 1s 9us/step - loss: 0.0296 - acc: 0.9910 - val_loss: 0.5566 - val_acc: 0.8875\n",
      "Epoch 81/100\n",
      "60000/60000 [==============================] - 0s 8us/step - loss: 0.0274 - acc: 0.9917 - val_loss: 0.5536 - val_acc: 0.8934\n",
      "Epoch 82/100\n",
      "60000/60000 [==============================] - 1s 9us/step - loss: 0.0238 - acc: 0.9936 - val_loss: 0.5505 - val_acc: 0.8895\n",
      "Epoch 83/100\n",
      "60000/60000 [==============================] - 1s 9us/step - loss: 0.0197 - acc: 0.9954 - val_loss: 0.5633 - val_acc: 0.8906\n",
      "Epoch 84/100\n",
      "60000/60000 [==============================] - 1s 8us/step - loss: 0.0223 - acc: 0.9939 - val_loss: 0.5818 - val_acc: 0.8881\n",
      "Epoch 85/100\n",
      "60000/60000 [==============================] - 0s 8us/step - loss: 0.0252 - acc: 0.9927 - val_loss: 0.5860 - val_acc: 0.8881\n",
      "Epoch 86/100\n",
      "60000/60000 [==============================] - 1s 10us/step - loss: 0.0238 - acc: 0.9929 - val_loss: 0.6069 - val_acc: 0.8879\n",
      "Epoch 87/100\n",
      "60000/60000 [==============================] - 1s 9us/step - loss: 0.0294 - acc: 0.9906 - val_loss: 0.5808 - val_acc: 0.8902\n",
      "Epoch 88/100\n",
      "60000/60000 [==============================] - 1s 8us/step - loss: 0.0316 - acc: 0.9895 - val_loss: 0.6008 - val_acc: 0.8904\n",
      "Epoch 89/100\n",
      "60000/60000 [==============================] - 0s 8us/step - loss: 0.0323 - acc: 0.9894 - val_loss: 0.5975 - val_acc: 0.8896\n",
      "Epoch 90/100\n",
      "60000/60000 [==============================] - 1s 9us/step - loss: 0.0294 - acc: 0.9903 - val_loss: 0.6403 - val_acc: 0.8830\n",
      "Epoch 91/100\n",
      "60000/60000 [==============================] - 1s 9us/step - loss: 0.0292 - acc: 0.9903 - val_loss: 0.6115 - val_acc: 0.8904\n",
      "Epoch 92/100\n",
      "60000/60000 [==============================] - 1s 9us/step - loss: 0.0227 - acc: 0.9930 - val_loss: 0.6124 - val_acc: 0.8907\n",
      "Epoch 93/100\n",
      "60000/60000 [==============================] - 1s 8us/step - loss: 0.0329 - acc: 0.9887 - val_loss: 0.6128 - val_acc: 0.8913\n",
      "Epoch 94/100\n",
      "60000/60000 [==============================] - 1s 9us/step - loss: 0.0309 - acc: 0.9894 - val_loss: 0.6046 - val_acc: 0.8876\n",
      "Epoch 95/100\n",
      "60000/60000 [==============================] - 1s 8us/step - loss: 0.0193 - acc: 0.9945 - val_loss: 0.6420 - val_acc: 0.8860\n",
      "Epoch 96/100\n",
      "60000/60000 [==============================] - 1s 8us/step - loss: 0.0184 - acc: 0.9948 - val_loss: 0.6248 - val_acc: 0.8926\n",
      "Epoch 97/100\n",
      "60000/60000 [==============================] - 1s 8us/step - loss: 0.0118 - acc: 0.9978 - val_loss: 0.6210 - val_acc: 0.8913\n",
      "Epoch 98/100\n",
      "60000/60000 [==============================] - 1s 10us/step - loss: 0.0105 - acc: 0.9980 - val_loss: 0.6411 - val_acc: 0.8903\n",
      "Epoch 99/100\n",
      "60000/60000 [==============================] - 1s 9us/step - loss: 0.0116 - acc: 0.9976 - val_loss: 0.6201 - val_acc: 0.8921\n",
      "Epoch 100/100\n",
      "60000/60000 [==============================] - 1s 10us/step - loss: 0.0131 - acc: 0.9970 - val_loss: 0.6566 - val_acc: 0.8887\n"
     ]
    }
   ],
   "source": [
    "optimizer = Adam()\n",
    "model = create_model(input_shape, optimizer)\n",
    "\n",
    "history = model.fit(x_train, y_train, verbose=1,\n",
    "              batch_size=batch_size,\n",
    "              epochs=epochs,\n",
    "              validation_data=(x_test, y_test),\n",
    "              shuffle=True)"
   ]
  },
  {
   "cell_type": "code",
   "execution_count": 21,
   "metadata": {},
   "outputs": [
    {
     "data": {
      "image/png": "[encoded data removed]",
      "text/plain": [
       "<Figure size 432x288 with 1 Axes>"
      ]
     },
     "metadata": {
      "needs_background": "light"
     },
     "output_type": "display_data"
    }
   ],
   "source": [
    "viz_history(history)"
   ]
  },
  {
   "cell_type": "markdown",
   "metadata": {},
   "source": [
    "## Объявляем, борьбу с переобучением"
   ]
  },
  {
   "cell_type": "code",
   "execution_count": 22,
   "metadata": {},
   "outputs": [],
   "source": [
    "from keras.layers import Dropout, BatchNormalization"
   ]
  },
  {
   "cell_type": "code",
   "execution_count": 23,
   "metadata": {
    "scrolled": true
   },
   "outputs": [
    {
     "name": "stdout",
     "output_type": "stream",
     "text": [
      "Train on 60000 samples, validate on 10000 samples\n",
      "Epoch 1/100\n",
      "60000/60000 [==============================] - 1s 16us/step - loss: 1.0019 - acc: 0.6532 - val_loss: 0.5676 - val_acc: 0.7972\n",
      "Epoch 2/100\n",
      "60000/60000 [==============================] - 1s 10us/step - loss: 0.6240 - acc: 0.7790 - val_loss: 0.4958 - val_acc: 0.8198\n",
      "Epoch 3/100\n",
      "60000/60000 [==============================] - 1s 11us/step - loss: 0.5620 - acc: 0.8023 - val_loss: 0.4642 - val_acc: 0.8317\n",
      "Epoch 4/100\n",
      "60000/60000 [==============================] - 1s 10us/step - loss: 0.5310 - acc: 0.8144 - val_loss: 0.4434 - val_acc: 0.8331\n",
      "Epoch 5/100\n",
      "60000/60000 [==============================] - 1s 10us/step - loss: 0.5051 - acc: 0.8229 - val_loss: 0.4298 - val_acc: 0.8441\n",
      "Epoch 6/100\n",
      "60000/60000 [==============================] - 1s 9us/step - loss: 0.4888 - acc: 0.8296 - val_loss: 0.4233 - val_acc: 0.8455\n",
      "Epoch 7/100\n",
      "60000/60000 [==============================] - 1s 11us/step - loss: 0.4724 - acc: 0.8338 - val_loss: 0.4133 - val_acc: 0.8530\n",
      "Epoch 8/100\n",
      "60000/60000 [==============================] - 1s 10us/step - loss: 0.4611 - acc: 0.8387 - val_loss: 0.4035 - val_acc: 0.8516\n",
      "Epoch 9/100\n",
      "60000/60000 [==============================] - 1s 10us/step - loss: 0.4503 - acc: 0.8423 - val_loss: 0.4027 - val_acc: 0.8549\n",
      "Epoch 10/100\n",
      "60000/60000 [==============================] - 1s 11us/step - loss: 0.4449 - acc: 0.8430 - val_loss: 0.3991 - val_acc: 0.8563\n",
      "Epoch 11/100\n",
      "60000/60000 [==============================] - 1s 10us/step - loss: 0.4358 - acc: 0.8466 - val_loss: 0.3890 - val_acc: 0.8607\n",
      "Epoch 12/100\n",
      "60000/60000 [==============================] - 1s 10us/step - loss: 0.4279 - acc: 0.8495 - val_loss: 0.3920 - val_acc: 0.8567\n",
      "Epoch 13/100\n",
      "60000/60000 [==============================] - 1s 10us/step - loss: 0.4246 - acc: 0.8503 - val_loss: 0.3869 - val_acc: 0.8594\n",
      "Epoch 14/100\n",
      "60000/60000 [==============================] - 1s 10us/step - loss: 0.4192 - acc: 0.8526 - val_loss: 0.3853 - val_acc: 0.8597\n",
      "Epoch 15/100\n",
      "60000/60000 [==============================] - 1s 10us/step - loss: 0.4129 - acc: 0.8534 - val_loss: 0.3769 - val_acc: 0.8641\n",
      "Epoch 16/100\n",
      "60000/60000 [==============================] - 1s 9us/step - loss: 0.4060 - acc: 0.8557 - val_loss: 0.3768 - val_acc: 0.8624\n",
      "Epoch 17/100\n",
      "60000/60000 [==============================] - 1s 11us/step - loss: 0.4055 - acc: 0.8548 - val_loss: 0.3757 - val_acc: 0.8670\n",
      "Epoch 18/100\n",
      "60000/60000 [==============================] - 1s 10us/step - loss: 0.3974 - acc: 0.8591 - val_loss: 0.3705 - val_acc: 0.8664\n",
      "Epoch 19/100\n",
      "60000/60000 [==============================] - 1s 9us/step - loss: 0.3981 - acc: 0.8581 - val_loss: 0.3705 - val_acc: 0.8688\n",
      "Epoch 20/100\n",
      "60000/60000 [==============================] - 1s 11us/step - loss: 0.3913 - acc: 0.8600 - val_loss: 0.3701 - val_acc: 0.8672\n",
      "Epoch 21/100\n",
      "60000/60000 [==============================] - 1s 10us/step - loss: 0.3899 - acc: 0.8613 - val_loss: 0.3681 - val_acc: 0.8674\n",
      "Epoch 22/100\n",
      "60000/60000 [==============================] - 1s 10us/step - loss: 0.3841 - acc: 0.8627 - val_loss: 0.3663 - val_acc: 0.8676\n",
      "Epoch 23/100\n",
      "60000/60000 [==============================] - 1s 10us/step - loss: 0.3808 - acc: 0.8649 - val_loss: 0.3619 - val_acc: 0.8686\n",
      "Epoch 24/100\n",
      "60000/60000 [==============================] - 1s 11us/step - loss: 0.3798 - acc: 0.8637 - val_loss: 0.3655 - val_acc: 0.8686\n",
      "Epoch 25/100\n",
      "60000/60000 [==============================] - 1s 10us/step - loss: 0.3773 - acc: 0.8654 - val_loss: 0.3582 - val_acc: 0.8735\n",
      "Epoch 26/100\n",
      "60000/60000 [==============================] - 1s 9us/step - loss: 0.3730 - acc: 0.8675 - val_loss: 0.3614 - val_acc: 0.8720\n",
      "Epoch 27/100\n",
      "60000/60000 [==============================] - 1s 10us/step - loss: 0.3702 - acc: 0.8679 - val_loss: 0.3588 - val_acc: 0.8723\n",
      "Epoch 28/100\n",
      "60000/60000 [==============================] - 1s 10us/step - loss: 0.3698 - acc: 0.8663 - val_loss: 0.3571 - val_acc: 0.8709\n",
      "Epoch 29/100\n",
      "60000/60000 [==============================] - 1s 10us/step - loss: 0.3694 - acc: 0.8677 - val_loss: 0.3498 - val_acc: 0.8749\n",
      "Epoch 30/100\n",
      "60000/60000 [==============================] - 1s 10us/step - loss: 0.3640 - acc: 0.8685 - val_loss: 0.3542 - val_acc: 0.8718\n",
      "Epoch 31/100\n",
      "60000/60000 [==============================] - 1s 10us/step - loss: 0.3601 - acc: 0.8710 - val_loss: 0.3516 - val_acc: 0.8715\n",
      "Epoch 32/100\n",
      "60000/60000 [==============================] - 1s 10us/step - loss: 0.3580 - acc: 0.8714 - val_loss: 0.3515 - val_acc: 0.8771\n",
      "Epoch 33/100\n",
      "60000/60000 [==============================] - 1s 9us/step - loss: 0.3584 - acc: 0.8712 - val_loss: 0.3542 - val_acc: 0.8730\n",
      "Epoch 34/100\n",
      "60000/60000 [==============================] - 1s 11us/step - loss: 0.3528 - acc: 0.8728 - val_loss: 0.3507 - val_acc: 0.8748\n",
      "Epoch 35/100\n",
      "60000/60000 [==============================] - 1s 9us/step - loss: 0.3538 - acc: 0.8720 - val_loss: 0.3575 - val_acc: 0.8678\n",
      "Epoch 36/100\n",
      "60000/60000 [==============================] - 1s 10us/step - loss: 0.3550 - acc: 0.8719 - val_loss: 0.3521 - val_acc: 0.8710\n",
      "Epoch 37/100\n",
      "60000/60000 [==============================] - 1s 11us/step - loss: 0.3504 - acc: 0.8717 - val_loss: 0.3490 - val_acc: 0.8750\n",
      "Epoch 38/100\n",
      "60000/60000 [==============================] - 1s 10us/step - loss: 0.3529 - acc: 0.8721 - val_loss: 0.3482 - val_acc: 0.8767\n",
      "Epoch 39/100\n",
      "60000/60000 [==============================] - 1s 10us/step - loss: 0.3454 - acc: 0.8748 - val_loss: 0.3481 - val_acc: 0.8771\n",
      "Epoch 40/100\n",
      "60000/60000 [==============================] - 1s 10us/step - loss: 0.3379 - acc: 0.8765 - val_loss: 0.3461 - val_acc: 0.8765\n",
      "Epoch 41/100\n",
      "60000/60000 [==============================] - 1s 11us/step - loss: 0.3447 - acc: 0.8747 - val_loss: 0.3492 - val_acc: 0.8739\n",
      "Epoch 42/100\n",
      "60000/60000 [==============================] - 1s 10us/step - loss: 0.3418 - acc: 0.8759 - val_loss: 0.3497 - val_acc: 0.8771\n",
      "Epoch 43/100\n",
      "60000/60000 [==============================] - 1s 10us/step - loss: 0.3387 - acc: 0.8767 - val_loss: 0.3469 - val_acc: 0.8757\n",
      "Epoch 44/100\n",
      "60000/60000 [==============================] - 1s 11us/step - loss: 0.3383 - acc: 0.8785 - val_loss: 0.3487 - val_acc: 0.8758\n",
      "Epoch 45/100\n",
      "60000/60000 [==============================] - 1s 10us/step - loss: 0.3382 - acc: 0.8768 - val_loss: 0.3454 - val_acc: 0.8777\n",
      "Epoch 46/100\n",
      "60000/60000 [==============================] - 1s 10us/step - loss: 0.3387 - acc: 0.8769 - val_loss: 0.3422 - val_acc: 0.8772\n",
      "Epoch 47/100\n",
      "60000/60000 [==============================] - 1s 10us/step - loss: 0.3355 - acc: 0.8779 - val_loss: 0.3451 - val_acc: 0.8747\n",
      "Epoch 48/100\n",
      "60000/60000 [==============================] - 1s 10us/step - loss: 0.3339 - acc: 0.8789 - val_loss: 0.3459 - val_acc: 0.8775\n",
      "Epoch 49/100\n",
      "60000/60000 [==============================] - 1s 10us/step - loss: 0.3338 - acc: 0.8782 - val_loss: 0.3452 - val_acc: 0.8786\n",
      "Epoch 50/100\n",
      "60000/60000 [==============================] - 1s 10us/step - loss: 0.3316 - acc: 0.8792 - val_loss: 0.3440 - val_acc: 0.8773\n",
      "Epoch 51/100\n",
      "60000/60000 [==============================] - 1s 12us/step - loss: 0.3314 - acc: 0.8793 - val_loss: 0.3450 - val_acc: 0.8765\n",
      "Epoch 52/100\n",
      "60000/60000 [==============================] - 1s 10us/step - loss: 0.3270 - acc: 0.8820 - val_loss: 0.3459 - val_acc: 0.8782\n",
      "Epoch 53/100\n",
      "60000/60000 [==============================] - 1s 10us/step - loss: 0.3257 - acc: 0.8807 - val_loss: 0.3441 - val_acc: 0.8758\n",
      "Epoch 54/100\n",
      "60000/60000 [==============================] - 1s 10us/step - loss: 0.3241 - acc: 0.8822 - val_loss: 0.3403 - val_acc: 0.8797\n",
      "Epoch 55/100\n",
      "60000/60000 [==============================] - 1s 10us/step - loss: 0.3250 - acc: 0.8812 - val_loss: 0.3446 - val_acc: 0.8766\n",
      "Epoch 56/100\n",
      "60000/60000 [==============================] - 1s 10us/step - loss: 0.3294 - acc: 0.8805 - val_loss: 0.3428 - val_acc: 0.8784\n",
      "Epoch 57/100\n",
      "60000/60000 [==============================] - 1s 10us/step - loss: 0.3210 - acc: 0.8827 - val_loss: 0.3425 - val_acc: 0.8784\n",
      "Epoch 58/100\n",
      "60000/60000 [==============================] - 1s 11us/step - loss: 0.3208 - acc: 0.8838 - val_loss: 0.3414 - val_acc: 0.8785\n",
      "Epoch 59/100\n"
     ]
    },
    {
     "name": "stdout",
     "output_type": "stream",
     "text": [
      "60000/60000 [==============================] - 1s 10us/step - loss: 0.3203 - acc: 0.8843 - val_loss: 0.3384 - val_acc: 0.8818\n",
      "Epoch 60/100\n",
      "60000/60000 [==============================] - 1s 10us/step - loss: 0.3201 - acc: 0.8822 - val_loss: 0.3425 - val_acc: 0.8787\n",
      "Epoch 61/100\n",
      "60000/60000 [==============================] - 1s 11us/step - loss: 0.3214 - acc: 0.8835 - val_loss: 0.3416 - val_acc: 0.8800\n",
      "Epoch 62/100\n",
      "60000/60000 [==============================] - 1s 10us/step - loss: 0.3183 - acc: 0.8842 - val_loss: 0.3445 - val_acc: 0.8776\n",
      "Epoch 63/100\n",
      "60000/60000 [==============================] - 1s 10us/step - loss: 0.3165 - acc: 0.8843 - val_loss: 0.3427 - val_acc: 0.8786\n",
      "Epoch 64/100\n",
      "60000/60000 [==============================] - 1s 11us/step - loss: 0.3202 - acc: 0.8822 - val_loss: 0.3429 - val_acc: 0.8765\n",
      "Epoch 65/100\n",
      "60000/60000 [==============================] - 1s 10us/step - loss: 0.3156 - acc: 0.8852 - val_loss: 0.3477 - val_acc: 0.8791\n",
      "Epoch 66/100\n",
      "60000/60000 [==============================] - 1s 10us/step - loss: 0.3131 - acc: 0.8837 - val_loss: 0.3409 - val_acc: 0.8790\n",
      "Epoch 67/100\n",
      "60000/60000 [==============================] - 1s 9us/step - loss: 0.3133 - acc: 0.8850 - val_loss: 0.3416 - val_acc: 0.8785\n",
      "Epoch 68/100\n",
      "60000/60000 [==============================] - 1s 11us/step - loss: 0.3081 - acc: 0.8885 - val_loss: 0.3394 - val_acc: 0.8814\n",
      "Epoch 69/100\n",
      "60000/60000 [==============================] - 1s 10us/step - loss: 0.3107 - acc: 0.8872 - val_loss: 0.3405 - val_acc: 0.8810\n",
      "Epoch 70/100\n",
      "60000/60000 [==============================] - 1s 10us/step - loss: 0.3109 - acc: 0.8859 - val_loss: 0.3410 - val_acc: 0.8830\n",
      "Epoch 71/100\n",
      "60000/60000 [==============================] - 1s 11us/step - loss: 0.3110 - acc: 0.8871 - val_loss: 0.3415 - val_acc: 0.8785\n",
      "Epoch 72/100\n",
      "60000/60000 [==============================] - 1s 10us/step - loss: 0.3100 - acc: 0.8870 - val_loss: 0.3428 - val_acc: 0.8790\n",
      "Epoch 73/100\n",
      "60000/60000 [==============================] - 1s 10us/step - loss: 0.3129 - acc: 0.8854 - val_loss: 0.3411 - val_acc: 0.8807\n",
      "Epoch 74/100\n",
      "60000/60000 [==============================] - 1s 10us/step - loss: 0.3096 - acc: 0.8869 - val_loss: 0.3404 - val_acc: 0.8821\n",
      "Epoch 75/100\n",
      "60000/60000 [==============================] - 1s 10us/step - loss: 0.3046 - acc: 0.8889 - val_loss: 0.3421 - val_acc: 0.8811\n",
      "Epoch 76/100\n",
      "60000/60000 [==============================] - 1s 10us/step - loss: 0.3069 - acc: 0.8890 - val_loss: 0.3434 - val_acc: 0.8794\n",
      "Epoch 77/100\n",
      "60000/60000 [==============================] - 1s 9us/step - loss: 0.3049 - acc: 0.8877 - val_loss: 0.3384 - val_acc: 0.8820\n",
      "Epoch 78/100\n",
      "60000/60000 [==============================] - 1s 11us/step - loss: 0.3061 - acc: 0.8880 - val_loss: 0.3446 - val_acc: 0.8801\n",
      "Epoch 79/100\n",
      "60000/60000 [==============================] - 1s 10us/step - loss: 0.3028 - acc: 0.8892 - val_loss: 0.3410 - val_acc: 0.8793\n",
      "Epoch 80/100\n",
      "60000/60000 [==============================] - 1s 10us/step - loss: 0.3020 - acc: 0.8883 - val_loss: 0.3418 - val_acc: 0.8803\n",
      "Epoch 81/100\n",
      "60000/60000 [==============================] - 1s 10us/step - loss: 0.3009 - acc: 0.8895 - val_loss: 0.3436 - val_acc: 0.8814\n",
      "Epoch 82/100\n",
      "60000/60000 [==============================] - 1s 10us/step - loss: 0.3001 - acc: 0.8901 - val_loss: 0.3411 - val_acc: 0.8851\n",
      "Epoch 83/100\n",
      "60000/60000 [==============================] - 1s 10us/step - loss: 0.3009 - acc: 0.8891 - val_loss: 0.3387 - val_acc: 0.8816\n",
      "Epoch 84/100\n",
      "60000/60000 [==============================] - 1s 10us/step - loss: 0.2982 - acc: 0.8907 - val_loss: 0.3405 - val_acc: 0.8822\n",
      "Epoch 85/100\n",
      "60000/60000 [==============================] - 1s 11us/step - loss: 0.2998 - acc: 0.8906 - val_loss: 0.3387 - val_acc: 0.8821\n",
      "Epoch 86/100\n",
      "60000/60000 [==============================] - 1s 10us/step - loss: 0.2970 - acc: 0.8916 - val_loss: 0.3412 - val_acc: 0.8820\n",
      "Epoch 87/100\n",
      "60000/60000 [==============================] - 1s 10us/step - loss: 0.2935 - acc: 0.8914 - val_loss: 0.3400 - val_acc: 0.8828\n",
      "Epoch 88/100\n",
      "60000/60000 [==============================] - 1s 11us/step - loss: 0.2986 - acc: 0.8899 - val_loss: 0.3390 - val_acc: 0.8836\n",
      "Epoch 89/100\n",
      "60000/60000 [==============================] - 1s 10us/step - loss: 0.2940 - acc: 0.8924 - val_loss: 0.3429 - val_acc: 0.8783\n",
      "Epoch 90/100\n",
      "60000/60000 [==============================] - 1s 10us/step - loss: 0.2956 - acc: 0.8920 - val_loss: 0.3397 - val_acc: 0.8831\n",
      "Epoch 91/100\n",
      "60000/60000 [==============================] - 1s 10us/step - loss: 0.2937 - acc: 0.8926 - val_loss: 0.3403 - val_acc: 0.8827\n",
      "Epoch 92/100\n",
      "60000/60000 [==============================] - 1s 10us/step - loss: 0.2947 - acc: 0.8914 - val_loss: 0.3441 - val_acc: 0.8840\n",
      "Epoch 93/100\n",
      "60000/60000 [==============================] - 1s 10us/step - loss: 0.2914 - acc: 0.8924 - val_loss: 0.3382 - val_acc: 0.8819\n",
      "Epoch 94/100\n",
      "60000/60000 [==============================] - 1s 10us/step - loss: 0.2927 - acc: 0.8919 - val_loss: 0.3402 - val_acc: 0.8823\n",
      "Epoch 95/100\n",
      "60000/60000 [==============================] - 1s 11us/step - loss: 0.2874 - acc: 0.8933 - val_loss: 0.3400 - val_acc: 0.8823\n",
      "Epoch 96/100\n",
      "60000/60000 [==============================] - 1s 10us/step - loss: 0.2882 - acc: 0.8943 - val_loss: 0.3386 - val_acc: 0.8806\n",
      "Epoch 97/100\n",
      "60000/60000 [==============================] - 1s 10us/step - loss: 0.2875 - acc: 0.8939 - val_loss: 0.3460 - val_acc: 0.8772\n",
      "Epoch 98/100\n",
      "60000/60000 [==============================] - 1s 10us/step - loss: 0.2943 - acc: 0.8920 - val_loss: 0.3432 - val_acc: 0.8831\n",
      "Epoch 99/100\n",
      "60000/60000 [==============================] - 1s 10us/step - loss: 0.2895 - acc: 0.8941 - val_loss: 0.3429 - val_acc: 0.8834\n",
      "Epoch 100/100\n",
      "60000/60000 [==============================] - 1s 10us/step - loss: 0.2895 - acc: 0.8942 - val_loss: 0.3410 - val_acc: 0.8822\n"
     ]
    }
   ],
   "source": [
    "model = Sequential()\n",
    "model.add(Flatten(input_shape=input_shape))\n",
    "model.add(Dense(200, kernel_initializer=he_normal()))\n",
    "model.add(Activation('relu'))\n",
    "model.add(Dropout(0.5))\n",
    "model.add(Dense(100, kernel_initializer=he_normal()))\n",
    "model.add(Activation('relu'))\n",
    "model.add(Dropout(0.5))\n",
    "model.add(Dense(10))\n",
    "model.add(Activation('softmax'))\n",
    "model.compile(optimizer=optimizer, loss='categorical_crossentropy', metrics=['accuracy'])\n",
    "history = model.fit(x_train, y_train, verbose=1,\n",
    "              batch_size=batch_size,\n",
    "              epochs=epochs,\n",
    "              validation_data=(x_test, y_test),\n",
    "              shuffle=True)"
   ]
  },
  {
   "cell_type": "code",
   "execution_count": 25,
   "metadata": {},
   "outputs": [
    {
     "data": {
      "image/png": "[encoded data removed]",
      "text/plain": [
       "<Figure size 432x288 with 1 Axes>"
      ]
     },
     "metadata": {
      "needs_background": "light"
     },
     "output_type": "display_data"
    }
   ],
   "source": [
    "viz_history(history)"
   ]
  },
  {
   "cell_type": "markdown",
   "metadata": {},
   "source": [
    "# Теперь твоя очередь! "
   ]
  },
  {
   "cell_type": "markdown",
   "metadata": {},
   "source": [
    "Побей бейзлайн 2 в соревновании [Птица или самолет](https://www.kaggle.com/c/bird-or-aircraft/leaderboard)"
   ]
  },
  {
   "cell_type": "markdown",
   "metadata": {},
   "source": [
    "# Ссылки\n",
    "- [Курс \"Deep learning на пальцах\", лекция 4](https://youtu.be/tnrbx7V9RbA)\n",
    "- [Статья: Оптимизация градиентного спуска](http://ruder.io/optimizing-gradient-descent/)\n",
    "- [Статья: Методы оптимизации нейронных сетей](https://habr.com/ru/post/318970/)"
   ]
  }
 ],
 "metadata": {
  "kernelspec": {
   "display_name": "Python 3",
   "language": "python",
   "name": "python3"
  },
  "language_info": {
   "codemirror_mode": {
    "name": "ipython",
    "version": 3
   },
   "file_extension": ".py",
   "mimetype": "text/x-python",
   "name": "python",
   "nbconvert_exporter": "python",
   "pygments_lexer": "ipython3",
   "version": "3.6.6"
  }
 },
 "nbformat": 4,
 "nbformat_minor": 2
}
